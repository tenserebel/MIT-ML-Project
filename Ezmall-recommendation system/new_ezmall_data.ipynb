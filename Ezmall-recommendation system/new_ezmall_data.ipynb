{
  "nbformat": 4,
  "nbformat_minor": 0,
  "metadata": {
    "colab": {
      "name": "new_ezmall_data.ipynb",
      "provenance": []
    },
    "kernelspec": {
      "name": "python3",
      "display_name": "Python 3"
    },
    "language_info": {
      "name": "python"
    }
  },
  "cells": [
    {
      "cell_type": "markdown",
      "metadata": {
        "id": "U__nXwXZwEuQ"
      },
      "source": [
        "**EZMALL Recommendation System:**\n",
        "\n",
        "\n",
        "---\n",
        "\n",
        "By: \n",
        "\n",
        "Prem Jha(premjha3010@gmail.com)\n",
        "  \n",
        "Aditya Jain(adityajain1974@gmail.com)\n",
        "\n",
        "Pranav Badhe(badhepranav5@gmail.com)"
      ]
    },
    {
      "cell_type": "markdown",
      "metadata": {
        "id": "fYK8Pg4Kwpjk"
      },
      "source": [
        "*This notebook contains data preparation for the system*"
      ]
    },
    {
      "cell_type": "code",
      "metadata": {
        "id": "ue4vcLvDqHNg"
      },
      "source": [
        "import pandas as pd\n",
        "import numpy as np\n",
        "import matplotlib.pyplot as plt"
      ],
      "execution_count": null,
      "outputs": []
    },
    {
      "cell_type": "code",
      "metadata": {
        "id": "9JREHaW4rWTu"
      },
      "source": [
        "df=pd.read_excel(\"/content/bi_fb_mkt_shopping_feeds.xls\")"
      ],
      "execution_count": null,
      "outputs": []
    },
    {
      "cell_type": "code",
      "metadata": {
        "colab": {
          "base_uri": "https://localhost:8080/",
          "height": 1000
        },
        "id": "vtNBTtVyrxjM",
        "outputId": "e5920654-abc0-46f8-b5f0-c36aa4758a16"
      },
      "source": [
        "df"
      ],
      "execution_count": null,
      "outputs": [
        {
          "output_type": "execute_result",
          "data": {
            "text/html": [
              "<div>\n",
              "<style scoped>\n",
              "    .dataframe tbody tr th:only-of-type {\n",
              "        vertical-align: middle;\n",
              "    }\n",
              "\n",
              "    .dataframe tbody tr th {\n",
              "        vertical-align: top;\n",
              "    }\n",
              "\n",
              "    .dataframe thead th {\n",
              "        text-align: right;\n",
              "    }\n",
              "</style>\n",
              "<table border=\"1\" class=\"dataframe\">\n",
              "  <thead>\n",
              "    <tr style=\"text-align: right;\">\n",
              "      <th></th>\n",
              "      <th>id</th>\n",
              "      <th>title</th>\n",
              "      <th>description</th>\n",
              "      <th>availability</th>\n",
              "      <th>condition</th>\n",
              "      <th>price</th>\n",
              "      <th>link</th>\n",
              "      <th>image_link</th>\n",
              "      <th>brand</th>\n",
              "      <th>additional_image_link</th>\n",
              "      <th>age_group</th>\n",
              "      <th>color</th>\n",
              "      <th>gender</th>\n",
              "      <th>item_group_id</th>\n",
              "      <th>google_product_category</th>\n",
              "      <th>material</th>\n",
              "      <th>pattern</th>\n",
              "      <th>product_type</th>\n",
              "      <th>sale_price</th>\n",
              "      <th>sale_price_effective_date</th>\n",
              "      <th>shipping</th>\n",
              "      <th>size</th>\n",
              "      <th>custom_label_0</th>\n",
              "      <th>custom_label_1</th>\n",
              "      <th>custom_label_2</th>\n",
              "      <th>custom_label_3</th>\n",
              "      <th>custom_label_4</th>\n",
              "      <th>gtin</th>\n",
              "    </tr>\n",
              "  </thead>\n",
              "  <tbody>\n",
              "    <tr>\n",
              "      <th>0</th>\n",
              "      <td>1</td>\n",
              "      <td>Set of 3 Rani Haar and Earrings by Touchstone</td>\n",
              "      <td>Online Shopping for Set of 3 Rani Haar and Ear...</td>\n",
              "      <td>out of stock</td>\n",
              "      <td>new</td>\n",
              "      <td>1800.00 INR</td>\n",
              "      <td>https://www.ezmall.com/women/jewellery/artific...</td>\n",
              "      <td>https://cdn.ezmall.com/0/images/product/1/001-...</td>\n",
              "      <td>Touchstone</td>\n",
              "      <td>https://cdn.ezmall.com/0/images/product/1/001-...</td>\n",
              "      <td>NaN</td>\n",
              "      <td>MULTI</td>\n",
              "      <td>NaN</td>\n",
              "      <td>NaN</td>\n",
              "      <td>Apparel &amp; Accessories &gt; Jewelry &gt; Jewelry Sets</td>\n",
              "      <td>NaN</td>\n",
              "      <td>NaN</td>\n",
              "      <td>Women &gt; Jewellery &gt; Artificial Jewellery &gt; Nec...</td>\n",
              "      <td>999.00 INR</td>\n",
              "      <td>NaN</td>\n",
              "      <td>51.00 INR</td>\n",
              "      <td>NaN</td>\n",
              "      <td>Women</td>\n",
              "      <td>Jewellery</td>\n",
              "      <td>Artificial Jewellery</td>\n",
              "      <td>Necklace Sets</td>\n",
              "      <td>NaN</td>\n",
              "      <td>NaN</td>\n",
              "    </tr>\n",
              "    <tr>\n",
              "      <th>1</th>\n",
              "      <td>5</td>\n",
              "      <td>Lotus Herbals 5 Pc Anti Ageing Kit</td>\n",
              "      <td>Online Shopping for Lotus Herbals 5 Pc Anti Ag...</td>\n",
              "      <td>out of stock</td>\n",
              "      <td>new</td>\n",
              "      <td>1765.00 INR</td>\n",
              "      <td>https://www.ezmall.com/women/beauty-personal-c...</td>\n",
              "      <td>https://cdn.ezmall.com/0/images/product/5/Lotu...</td>\n",
              "      <td>Lotus Herbals</td>\n",
              "      <td>https://cdn.ezmall.com/0/images/product/5/Lotu...</td>\n",
              "      <td>NaN</td>\n",
              "      <td>MULTI,GOLD</td>\n",
              "      <td>NaN</td>\n",
              "      <td>NaN</td>\n",
              "      <td>Health &amp; Beauty &gt; Personal Care &gt; Cosmetics &gt; ...</td>\n",
              "      <td>NaN</td>\n",
              "      <td>NaN</td>\n",
              "      <td>Women &gt; Beauty &amp; Personal Care &gt; Body &amp; Skin C...</td>\n",
              "      <td>1199.00 INR</td>\n",
              "      <td>NaN</td>\n",
              "      <td>101.00 INR</td>\n",
              "      <td>NaN</td>\n",
              "      <td>Women</td>\n",
              "      <td>Beauty &amp; Personal Care</td>\n",
              "      <td>Body &amp; Skin Care</td>\n",
              "      <td>Facial Kits</td>\n",
              "      <td>NaN</td>\n",
              "      <td>NaN</td>\n",
              "    </tr>\n",
              "    <tr>\n",
              "      <th>2</th>\n",
              "      <td>27</td>\n",
              "      <td>Touchstone 6 Pair Ethnic Earring Collection</td>\n",
              "      <td>Online Shopping for Touchstone 6 Pair Ethnic E...</td>\n",
              "      <td>out of stock</td>\n",
              "      <td>new</td>\n",
              "      <td>1800.00 INR</td>\n",
              "      <td>https://www.ezmall.com/women/jewellery/artific...</td>\n",
              "      <td>https://cdn.ezmall.com/0/images/product/27/001...</td>\n",
              "      <td>Touchstone</td>\n",
              "      <td>https://cdn.ezmall.com/0/images/product/27/001...</td>\n",
              "      <td>NaN</td>\n",
              "      <td>NaN</td>\n",
              "      <td>NaN</td>\n",
              "      <td>NaN</td>\n",
              "      <td>Apparel &amp; Accessories &gt; Jewelry &gt; Jewelry Sets</td>\n",
              "      <td>NaN</td>\n",
              "      <td>NaN</td>\n",
              "      <td>Women &gt; Jewellery &gt; Artificial Jewellery &gt; Ear...</td>\n",
              "      <td>999.00 INR</td>\n",
              "      <td>NaN</td>\n",
              "      <td>51.00 INR</td>\n",
              "      <td>NaN</td>\n",
              "      <td>Women</td>\n",
              "      <td>Jewellery</td>\n",
              "      <td>Artificial Jewellery</td>\n",
              "      <td>Earrings</td>\n",
              "      <td>NaN</td>\n",
              "      <td>NaN</td>\n",
              "    </tr>\n",
              "    <tr>\n",
              "      <th>3</th>\n",
              "      <td>47</td>\n",
              "      <td>Khadi Mauri 12 Pc. Herbal Skin Care Kit not use</td>\n",
              "      <td>Wondering if one kit alone could suffice the b...</td>\n",
              "      <td>out of stock</td>\n",
              "      <td>new</td>\n",
              "      <td>1600.00 INR</td>\n",
              "      <td>https://www.ezmall.com/women/beauty-personal-c...</td>\n",
              "      <td>https://cdn.ezmall.com/0/images/product/47/Kha...</td>\n",
              "      <td>Khadi Mauri</td>\n",
              "      <td>https://cdn.ezmall.com/0/images/product/47/Kha...</td>\n",
              "      <td>NaN</td>\n",
              "      <td>NaN</td>\n",
              "      <td>NaN</td>\n",
              "      <td>NaN</td>\n",
              "      <td>Health &amp; Beauty &gt; Personal Care &gt; Cosmetics &gt; ...</td>\n",
              "      <td>NaN</td>\n",
              "      <td>NaN</td>\n",
              "      <td>Women &gt; Beauty &amp; Personal Care &gt; Body &amp; Skin C...</td>\n",
              "      <td>1199.00 INR</td>\n",
              "      <td>NaN</td>\n",
              "      <td>51.00 INR</td>\n",
              "      <td>NaN</td>\n",
              "      <td>Women</td>\n",
              "      <td>Beauty &amp; Personal Care</td>\n",
              "      <td>Body &amp; Skin Care</td>\n",
              "      <td>Skin Care Combos</td>\n",
              "      <td>NaN</td>\n",
              "      <td>NaN</td>\n",
              "    </tr>\n",
              "    <tr>\n",
              "      <th>4</th>\n",
              "      <td>53</td>\n",
              "      <td>2 Rajasthani Bed Sheets &amp; 4 Pillow Covers Not USE</td>\n",
              "      <td>Inspired from the rich architectural heritage ...</td>\n",
              "      <td>out of stock</td>\n",
              "      <td>new</td>\n",
              "      <td>5000.00 INR</td>\n",
              "      <td>https://www.ezmall.com/home-kitchen/furnishing...</td>\n",
              "      <td>https://cdn.ezmall.com/0/images/product/53/001...</td>\n",
              "      <td>Bella Casa</td>\n",
              "      <td>https://cdn.ezmall.com/0/images/product/53/001...</td>\n",
              "      <td>NaN</td>\n",
              "      <td>NaN</td>\n",
              "      <td>NaN</td>\n",
              "      <td>NaN</td>\n",
              "      <td>Home &amp; Garden &gt; Linens &amp; Bedding &gt; Bedding &gt; B...</td>\n",
              "      <td>NaN</td>\n",
              "      <td>NaN</td>\n",
              "      <td>Home &amp; Kitchen &gt; Furnishings &amp; Furniture &gt; Bed...</td>\n",
              "      <td>1699.00 INR</td>\n",
              "      <td>NaN</td>\n",
              "      <td>101.00 INR</td>\n",
              "      <td>NaN</td>\n",
              "      <td>Home &amp; Kitchen</td>\n",
              "      <td>Furnishings &amp; Furniture</td>\n",
              "      <td>Bed Linen</td>\n",
              "      <td>Bed Sheets</td>\n",
              "      <td>NaN</td>\n",
              "      <td>NaN</td>\n",
              "    </tr>\n",
              "    <tr>\n",
              "      <th>...</th>\n",
              "      <td>...</td>\n",
              "      <td>...</td>\n",
              "      <td>...</td>\n",
              "      <td>...</td>\n",
              "      <td>...</td>\n",
              "      <td>...</td>\n",
              "      <td>...</td>\n",
              "      <td>...</td>\n",
              "      <td>...</td>\n",
              "      <td>...</td>\n",
              "      <td>...</td>\n",
              "      <td>...</td>\n",
              "      <td>...</td>\n",
              "      <td>...</td>\n",
              "      <td>...</td>\n",
              "      <td>...</td>\n",
              "      <td>...</td>\n",
              "      <td>...</td>\n",
              "      <td>...</td>\n",
              "      <td>...</td>\n",
              "      <td>...</td>\n",
              "      <td>...</td>\n",
              "      <td>...</td>\n",
              "      <td>...</td>\n",
              "      <td>...</td>\n",
              "      <td>...</td>\n",
              "      <td>...</td>\n",
              "      <td>...</td>\n",
              "    </tr>\n",
              "    <tr>\n",
              "      <th>2344</th>\n",
              "      <td>141243</td>\n",
              "      <td>Digital Thermometer</td>\n",
              "      <td>Digital Thermometer</td>\n",
              "      <td>out of stock</td>\n",
              "      <td>new</td>\n",
              "      <td>140.00 INR</td>\n",
              "      <td>https://www.ezmall.com/electronics-appliances/...</td>\n",
              "      <td>https://cdn.ezmall.com/0/images/product/141243...</td>\n",
              "      <td>Dr. ODIN</td>\n",
              "      <td>https://cdn.ezmall.com/0/images/product/141243...</td>\n",
              "      <td>NaN</td>\n",
              "      <td>NaN</td>\n",
              "      <td>NaN</td>\n",
              "      <td>NaN</td>\n",
              "      <td>NaN</td>\n",
              "      <td>NaN</td>\n",
              "      <td>NaN</td>\n",
              "      <td>Electronics &amp; Appliances &gt; Health Appliances &gt;...</td>\n",
              "      <td>140.00 INR</td>\n",
              "      <td>NaN</td>\n",
              "      <td>0.00 INR</td>\n",
              "      <td>NaN</td>\n",
              "      <td>Electronics &amp; Appliances</td>\n",
              "      <td>Health Appliances</td>\n",
              "      <td>Thermometers</td>\n",
              "      <td>NaN</td>\n",
              "      <td>NaN</td>\n",
              "      <td>NaN</td>\n",
              "    </tr>\n",
              "    <tr>\n",
              "      <th>2345</th>\n",
              "      <td>141244</td>\n",
              "      <td>Digital Thermometer</td>\n",
              "      <td>Digital Thermometer</td>\n",
              "      <td>out of stock</td>\n",
              "      <td>new</td>\n",
              "      <td>240.00 INR</td>\n",
              "      <td>https://www.ezmall.com/electronics-appliances/...</td>\n",
              "      <td>https://cdn.ezmall.com/0/images/product/141244...</td>\n",
              "      <td>Dr. ODIN</td>\n",
              "      <td>https://cdn.ezmall.com/0/images/product/141244...</td>\n",
              "      <td>NaN</td>\n",
              "      <td>NaN</td>\n",
              "      <td>NaN</td>\n",
              "      <td>NaN</td>\n",
              "      <td>NaN</td>\n",
              "      <td>NaN</td>\n",
              "      <td>NaN</td>\n",
              "      <td>Electronics &amp; Appliances &gt; Health Appliances &gt;...</td>\n",
              "      <td>240.00 INR</td>\n",
              "      <td>NaN</td>\n",
              "      <td>0.00 INR</td>\n",
              "      <td>NaN</td>\n",
              "      <td>Electronics &amp; Appliances</td>\n",
              "      <td>Health Appliances</td>\n",
              "      <td>Thermometers</td>\n",
              "      <td>NaN</td>\n",
              "      <td>NaN</td>\n",
              "      <td>NaN</td>\n",
              "    </tr>\n",
              "    <tr>\n",
              "      <th>2346</th>\n",
              "      <td>141245</td>\n",
              "      <td>BLOOD GLUCOSE MONITORING SYSTEM GDH-FAD (FULL ...</td>\n",
              "      <td>BLOOD GLUCOSE MONITORING SYSTEM GDH-FAD (FULL ...</td>\n",
              "      <td>out of stock</td>\n",
              "      <td>new</td>\n",
              "      <td>1325.00 INR</td>\n",
              "      <td>https://www.ezmall.com/electronics-appliances/...</td>\n",
              "      <td>https://cdn.ezmall.com/0/images/product/141245...</td>\n",
              "      <td>Dr. ODIN</td>\n",
              "      <td>https://cdn.ezmall.com/0/images/product/141245...</td>\n",
              "      <td>NaN</td>\n",
              "      <td>NaN</td>\n",
              "      <td>NaN</td>\n",
              "      <td>NaN</td>\n",
              "      <td>NaN</td>\n",
              "      <td>NaN</td>\n",
              "      <td>NaN</td>\n",
              "      <td>Electronics &amp; Appliances &gt; Health Appliances &gt;...</td>\n",
              "      <td>1249.00 INR</td>\n",
              "      <td>NaN</td>\n",
              "      <td>0.00 INR</td>\n",
              "      <td>NaN</td>\n",
              "      <td>Electronics &amp; Appliances</td>\n",
              "      <td>Health Appliances</td>\n",
              "      <td>Glucometer</td>\n",
              "      <td>NaN</td>\n",
              "      <td>NaN</td>\n",
              "      <td>NaN</td>\n",
              "    </tr>\n",
              "    <tr>\n",
              "      <th>2347</th>\n",
              "      <td>141246</td>\n",
              "      <td>Egg Boiler</td>\n",
              "      <td>Egg Boiler</td>\n",
              "      <td>in stock</td>\n",
              "      <td>new</td>\n",
              "      <td>1000.00 INR</td>\n",
              "      <td>https://www.ezmall.com/home-kitchen/kitchen-di...</td>\n",
              "      <td>https://cdn.ezmall.com/0/images/product/141246...</td>\n",
              "      <td>Unique Dealz</td>\n",
              "      <td>https://cdn.ezmall.com/0/images/product/141246...</td>\n",
              "      <td>NaN</td>\n",
              "      <td>NaN</td>\n",
              "      <td>NaN</td>\n",
              "      <td>NaN</td>\n",
              "      <td>Home &amp; Garden &gt; Kitchen &amp; Dining &gt; Cookware &amp; ...</td>\n",
              "      <td>NaN</td>\n",
              "      <td>NaN</td>\n",
              "      <td>Home &amp; Kitchen &gt; Kitchen &amp; Dining &gt; Kitchen Tools</td>\n",
              "      <td>399.00 INR</td>\n",
              "      <td>NaN</td>\n",
              "      <td>0.00 INR</td>\n",
              "      <td>NaN</td>\n",
              "      <td>Home &amp; Kitchen</td>\n",
              "      <td>Kitchen &amp; Dining</td>\n",
              "      <td>Kitchen Tools</td>\n",
              "      <td>NaN</td>\n",
              "      <td>NaN</td>\n",
              "      <td>NaN</td>\n",
              "    </tr>\n",
              "    <tr>\n",
              "      <th>2348</th>\n",
              "      <td>141247</td>\n",
              "      <td>7 Pc Knife Set</td>\n",
              "      <td>7 Pc Knife Set</td>\n",
              "      <td>in stock</td>\n",
              "      <td>new</td>\n",
              "      <td>1200.00 INR</td>\n",
              "      <td>https://www.ezmall.com/home-kitchen/kitchen-di...</td>\n",
              "      <td>https://cdn.ezmall.com/0/images/product/141247...</td>\n",
              "      <td>Unique Dealz</td>\n",
              "      <td>https://cdn.ezmall.com/0/images/product/141247...</td>\n",
              "      <td>NaN</td>\n",
              "      <td>NaN</td>\n",
              "      <td>NaN</td>\n",
              "      <td>NaN</td>\n",
              "      <td>Home &amp; Garden &gt; Kitchen &amp; Dining &gt; Cookware &amp; ...</td>\n",
              "      <td>NaN</td>\n",
              "      <td>NaN</td>\n",
              "      <td>Home &amp; Kitchen &gt; Kitchen &amp; Dining &gt; Kitchen Tools</td>\n",
              "      <td>299.00 INR</td>\n",
              "      <td>NaN</td>\n",
              "      <td>0.00 INR</td>\n",
              "      <td>NaN</td>\n",
              "      <td>Home &amp; Kitchen</td>\n",
              "      <td>Kitchen &amp; Dining</td>\n",
              "      <td>Kitchen Tools</td>\n",
              "      <td>NaN</td>\n",
              "      <td>NaN</td>\n",
              "      <td>NaN</td>\n",
              "    </tr>\n",
              "  </tbody>\n",
              "</table>\n",
              "<p>2349 rows × 28 columns</p>\n",
              "</div>"
            ],
            "text/plain": [
              "          id  ... gtin\n",
              "0          1  ...  NaN\n",
              "1          5  ...  NaN\n",
              "2         27  ...  NaN\n",
              "3         47  ...  NaN\n",
              "4         53  ...  NaN\n",
              "...      ...  ...  ...\n",
              "2344  141243  ...  NaN\n",
              "2345  141244  ...  NaN\n",
              "2346  141245  ...  NaN\n",
              "2347  141246  ...  NaN\n",
              "2348  141247  ...  NaN\n",
              "\n",
              "[2349 rows x 28 columns]"
            ]
          },
          "metadata": {},
          "execution_count": 3
        }
      ]
    },
    {
      "cell_type": "code",
      "metadata": {
        "colab": {
          "base_uri": "https://localhost:8080/"
        },
        "id": "Ug96eGH8ryjc",
        "outputId": "2c17bf91-638e-4bea-eabe-d4a6696fd654"
      },
      "source": [
        "df.shape"
      ],
      "execution_count": null,
      "outputs": [
        {
          "output_type": "execute_result",
          "data": {
            "text/plain": [
              "(2349, 28)"
            ]
          },
          "metadata": {},
          "execution_count": 4
        }
      ]
    },
    {
      "cell_type": "code",
      "metadata": {
        "colab": {
          "base_uri": "https://localhost:8080/"
        },
        "id": "Ym7LAL5br-rE",
        "outputId": "9849158e-9d69-4a8f-e9f7-92a568865176"
      },
      "source": [
        "df.isna().sum()"
      ],
      "execution_count": null,
      "outputs": [
        {
          "output_type": "execute_result",
          "data": {
            "text/plain": [
              "id                              0\n",
              "title                           0\n",
              "description                     0\n",
              "availability                    0\n",
              "condition                       0\n",
              "price                           3\n",
              "link                            0\n",
              "image_link                      5\n",
              "brand                           0\n",
              "additional_image_link           5\n",
              "age_group                    2349\n",
              "color                        1470\n",
              "gender                       2349\n",
              "item_group_id                2349\n",
              "google_product_category        55\n",
              "material                     2349\n",
              "pattern                      2349\n",
              "product_type                    0\n",
              "sale_price                      3\n",
              "sale_price_effective_date    2349\n",
              "shipping                        3\n",
              "size                         1431\n",
              "custom_label_0                  0\n",
              "custom_label_1                  0\n",
              "custom_label_2                  0\n",
              "custom_label_3                984\n",
              "custom_label_4               2349\n",
              "gtin                         2337\n",
              "dtype: int64"
            ]
          },
          "metadata": {},
          "execution_count": 5
        }
      ]
    },
    {
      "cell_type": "code",
      "metadata": {
        "id": "CY9XI8JAsEfU"
      },
      "source": [
        "df=df.drop(['gtin','custom_label_4','custom_label_3','sale_price_effective_date','pattern','material','item_group_id','gender','age_group'],axis=1)"
      ],
      "execution_count": null,
      "outputs": []
    },
    {
      "cell_type": "code",
      "metadata": {
        "colab": {
          "base_uri": "https://localhost:8080/"
        },
        "id": "CdXXxl-9t78e",
        "outputId": "c68def36-5a76-4901-b945-c508f3ccdc41"
      },
      "source": [
        "df.isna().sum()"
      ],
      "execution_count": null,
      "outputs": [
        {
          "output_type": "execute_result",
          "data": {
            "text/plain": [
              "id                            0\n",
              "title                         0\n",
              "description                   0\n",
              "availability                  0\n",
              "condition                     0\n",
              "price                         3\n",
              "link                          0\n",
              "image_link                    5\n",
              "brand                         0\n",
              "additional_image_link         5\n",
              "color                      1470\n",
              "google_product_category      55\n",
              "product_type                  0\n",
              "sale_price                    3\n",
              "shipping                      3\n",
              "size                       1431\n",
              "custom_label_0                0\n",
              "custom_label_1                0\n",
              "custom_label_2                0\n",
              "dtype: int64"
            ]
          },
          "metadata": {},
          "execution_count": 7
        }
      ]
    },
    {
      "cell_type": "code",
      "metadata": {
        "id": "ZP_uiQHruCar"
      },
      "source": [
        "df['color'] = df['color'].replace(np.nan, 'no color')\n",
        "df['size'] = df['size'].replace(np.nan, 'no size')"
      ],
      "execution_count": null,
      "outputs": []
    },
    {
      "cell_type": "code",
      "metadata": {
        "id": "MZ1V10XTypJJ",
        "colab": {
          "base_uri": "https://localhost:8080/",
          "height": 423
        },
        "outputId": "08eb8176-1b91-4e23-85a3-9b4a23dfa887"
      },
      "source": [
        "availability = pd.crosstab(index = df['availability'],columns = ['NO of products'])\n",
        "availability.plot(kind = 'bar',color = 'r',alpha = 0.7)\n",
        "plt.legend()\n",
        "plt.tight_layout()\n",
        "availability"
      ],
      "execution_count": null,
      "outputs": [
        {
          "output_type": "execute_result",
          "data": {
            "text/html": [
              "<div>\n",
              "<style scoped>\n",
              "    .dataframe tbody tr th:only-of-type {\n",
              "        vertical-align: middle;\n",
              "    }\n",
              "\n",
              "    .dataframe tbody tr th {\n",
              "        vertical-align: top;\n",
              "    }\n",
              "\n",
              "    .dataframe thead th {\n",
              "        text-align: right;\n",
              "    }\n",
              "</style>\n",
              "<table border=\"1\" class=\"dataframe\">\n",
              "  <thead>\n",
              "    <tr style=\"text-align: right;\">\n",
              "      <th>col_0</th>\n",
              "      <th>NO of products</th>\n",
              "    </tr>\n",
              "    <tr>\n",
              "      <th>availability</th>\n",
              "      <th></th>\n",
              "    </tr>\n",
              "  </thead>\n",
              "  <tbody>\n",
              "    <tr>\n",
              "      <th>in stock</th>\n",
              "      <td>910</td>\n",
              "    </tr>\n",
              "    <tr>\n",
              "      <th>out of stock</th>\n",
              "      <td>1439</td>\n",
              "    </tr>\n",
              "  </tbody>\n",
              "</table>\n",
              "</div>"
            ],
            "text/plain": [
              "col_0         NO of products\n",
              "availability                \n",
              "in stock                 910\n",
              "out of stock            1439"
            ]
          },
          "metadata": {},
          "execution_count": 9
        },
        {
          "output_type": "display_data",
          "data": {
            "image/png": "[encoded data removed]",
            "text/plain": [
              "<Figure size 432x288 with 1 Axes>"
            ]
          },
          "metadata": {
            "needs_background": "light"
          }
        }
      ]
    },
    {
      "cell_type": "code",
      "metadata": {
        "colab": {
          "base_uri": "https://localhost:8080/",
          "height": 35
        },
        "id": "KSZxe_9L2TxN",
        "outputId": "e72b8ea6-0b3a-4c2b-ce63-4a3693425334"
      },
      "source": [
        "df['product_type'][22]"
      ],
      "execution_count": null,
      "outputs": [
        {
          "output_type": "execute_result",
          "data": {
            "application/vnd.google.colaboratory.intrinsic+json": {
              "type": "string"
            },
            "text/plain": [
              "'Women > Ethnic Wear > Sarees & Blouses > Sarees'"
            ]
          },
          "metadata": {},
          "execution_count": 10
        }
      ]
    },
    {
      "cell_type": "code",
      "metadata": {
        "colab": {
          "base_uri": "https://localhost:8080/",
          "height": 392
        },
        "id": "aG9NT8nke1ye",
        "outputId": "3d50c585-8ecd-4cd2-9d20-bbe53b0c1cd6"
      },
      "source": [
        "condition = pd.crosstab(index = df['condition'],columns = ['NO of products'])\n",
        "condition.plot(kind = 'bar',color = 'r',alpha = 0.7)\n",
        "plt.legend()\n",
        "plt.tight_layout()\n",
        "condition"
      ],
      "execution_count": null,
      "outputs": [
        {
          "output_type": "execute_result",
          "data": {
            "text/html": [
              "<div>\n",
              "<style scoped>\n",
              "    .dataframe tbody tr th:only-of-type {\n",
              "        vertical-align: middle;\n",
              "    }\n",
              "\n",
              "    .dataframe tbody tr th {\n",
              "        vertical-align: top;\n",
              "    }\n",
              "\n",
              "    .dataframe thead th {\n",
              "        text-align: right;\n",
              "    }\n",
              "</style>\n",
              "<table border=\"1\" class=\"dataframe\">\n",
              "  <thead>\n",
              "    <tr style=\"text-align: right;\">\n",
              "      <th>col_0</th>\n",
              "      <th>NO of products</th>\n",
              "    </tr>\n",
              "    <tr>\n",
              "      <th>condition</th>\n",
              "      <th></th>\n",
              "    </tr>\n",
              "  </thead>\n",
              "  <tbody>\n",
              "    <tr>\n",
              "      <th>new</th>\n",
              "      <td>2349</td>\n",
              "    </tr>\n",
              "  </tbody>\n",
              "</table>\n",
              "</div>"
            ],
            "text/plain": [
              "col_0      NO of products\n",
              "condition                \n",
              "new                  2349"
            ]
          },
          "metadata": {},
          "execution_count": 11
        },
        {
          "output_type": "display_data",
          "data": {
            "image/png": "[encoded data removed]",
            "text/plain": [
              "<Figure size 432x288 with 1 Axes>"
            ]
          },
          "metadata": {
            "needs_background": "light"
          }
        }
      ]
    },
    {
      "cell_type": "code",
      "metadata": {
        "colab": {
          "base_uri": "https://localhost:8080/",
          "height": 87
        },
        "id": "lapimkhkfbHj",
        "outputId": "07b81032-e6e4-46c0-8224-9173d2f7f638"
      },
      "source": [
        "df['additional_image_link'][221]"
      ],
      "execution_count": null,
      "outputs": [
        {
          "output_type": "execute_result",
          "data": {
            "application/vnd.google.colaboratory.intrinsic+json": {
              "type": "string"
            },
            "text/plain": [
              "'https://cdn.ezmall.com/0/images/product/3937/Lee_Cooper_Mens_Navy_Sneakers-Set-001.jpg,https://cdn.ezmall.com/0/images/product/3937/Lee_Cooper_Mens_Navy_Sneakers-Set-002.jpg,https://cdn.ezmall.com/0/images/product/3937/Lee_Cooper_Mens_Navy_Sneakers-Set-003.jpg,https://cdn.ezmall.com/0/images/product/3937/Lee_Cooper_Mens_Navy_Sneakers-Set-004.jpg,https://cdn.ezmall.com/0/images/product/3937/Lee_Cooper_Mens_Navy_Sneakers-Set-005.jpg'"
            ]
          },
          "metadata": {},
          "execution_count": 12
        }
      ]
    },
    {
      "cell_type": "code",
      "metadata": {
        "colab": {
          "base_uri": "https://localhost:8080/"
        },
        "id": "pPnWwKfrgudr",
        "outputId": "8c4f5202-9e12-45a8-f025-3e70a65782f4"
      },
      "source": [
        "df.loc[223, ['custom_label_0','custom_label_1', 'custom_label_2']]"
      ],
      "execution_count": null,
      "outputs": [
        {
          "output_type": "execute_result",
          "data": {
            "text/plain": [
              "custom_label_0             Men\n",
              "custom_label_1        Footwear\n",
              "custom_label_2    Sports Shoes\n",
              "Name: 223, dtype: object"
            ]
          },
          "metadata": {},
          "execution_count": 13
        }
      ]
    },
    {
      "cell_type": "code",
      "metadata": {
        "colab": {
          "base_uri": "https://localhost:8080/",
          "height": 35
        },
        "id": "6GqKpmueg5KL",
        "outputId": "212e3d7c-d1e9-4b35-aa21-23cdc5d9e1e5"
      },
      "source": [
        "df['google_product_category'][223]"
      ],
      "execution_count": null,
      "outputs": [
        {
          "output_type": "execute_result",
          "data": {
            "application/vnd.google.colaboratory.intrinsic+json": {
              "type": "string"
            },
            "text/plain": [
              "'Apparel & Accessories > Shoes'"
            ]
          },
          "metadata": {},
          "execution_count": 14
        }
      ]
    },
    {
      "cell_type": "code",
      "metadata": {
        "colab": {
          "base_uri": "https://localhost:8080/",
          "height": 35
        },
        "id": "3Ie_dU94hIDy",
        "outputId": "da7f53df-f870-4602-8b87-4a917e230232"
      },
      "source": [
        "df['product_type'][223]"
      ],
      "execution_count": null,
      "outputs": [
        {
          "output_type": "execute_result",
          "data": {
            "application/vnd.google.colaboratory.intrinsic+json": {
              "type": "string"
            },
            "text/plain": [
              "'Men > Footwear > Sports Shoes'"
            ]
          },
          "metadata": {},
          "execution_count": 15
        }
      ]
    },
    {
      "cell_type": "code",
      "metadata": {
        "id": "qVIdwLZTikHS"
      },
      "source": [
        "df[['category', 'subcategory']] = df['google_product_category'].str.split('>', 1, expand=True)"
      ],
      "execution_count": null,
      "outputs": []
    },
    {
      "cell_type": "code",
      "metadata": {
        "id": "KU0UpCRdipVj"
      },
      "source": [
        "df=df.drop(\"google_product_category\",axis=1)"
      ],
      "execution_count": null,
      "outputs": []
    },
    {
      "cell_type": "code",
      "metadata": {
        "colab": {
          "base_uri": "https://localhost:8080/",
          "height": 800
        },
        "id": "t4KgFhhVi5Jy",
        "outputId": "a5693852-0a9a-49c7-c426-7bd747ad8fb0"
      },
      "source": [
        "category = pd.crosstab(index = df['category'],columns = ['NO of products'])\n",
        "category.plot(kind = 'bar',color = 'r',alpha = 0.7)\n",
        "plt.legend()\n",
        "plt.tight_layout()\n",
        "category"
      ],
      "execution_count": null,
      "outputs": [
        {
          "output_type": "execute_result",
          "data": {
            "text/html": [
              "<div>\n",
              "<style scoped>\n",
              "    .dataframe tbody tr th:only-of-type {\n",
              "        vertical-align: middle;\n",
              "    }\n",
              "\n",
              "    .dataframe tbody tr th {\n",
              "        vertical-align: top;\n",
              "    }\n",
              "\n",
              "    .dataframe thead th {\n",
              "        text-align: right;\n",
              "    }\n",
              "</style>\n",
              "<table border=\"1\" class=\"dataframe\">\n",
              "  <thead>\n",
              "    <tr style=\"text-align: right;\">\n",
              "      <th>col_0</th>\n",
              "      <th>NO of products</th>\n",
              "    </tr>\n",
              "    <tr>\n",
              "      <th>category</th>\n",
              "      <th></th>\n",
              "    </tr>\n",
              "  </thead>\n",
              "  <tbody>\n",
              "    <tr>\n",
              "      <th>Apparel &amp; Accessories</th>\n",
              "      <td>1066</td>\n",
              "    </tr>\n",
              "    <tr>\n",
              "      <th>Arts &amp; Entertainment</th>\n",
              "      <td>1</td>\n",
              "    </tr>\n",
              "    <tr>\n",
              "      <th>Electronics</th>\n",
              "      <td>45</td>\n",
              "    </tr>\n",
              "    <tr>\n",
              "      <th>Electronics &amp; Appliances</th>\n",
              "      <td>4</td>\n",
              "    </tr>\n",
              "    <tr>\n",
              "      <th>Food, Beverages &amp; Tobacco</th>\n",
              "      <td>54</td>\n",
              "    </tr>\n",
              "    <tr>\n",
              "      <th>Furniture</th>\n",
              "      <td>9</td>\n",
              "    </tr>\n",
              "    <tr>\n",
              "      <th>Hardware</th>\n",
              "      <td>2</td>\n",
              "    </tr>\n",
              "    <tr>\n",
              "      <th>Health &amp; Beauty</th>\n",
              "      <td>192</td>\n",
              "    </tr>\n",
              "    <tr>\n",
              "      <th>Home &amp; Garden</th>\n",
              "      <td>912</td>\n",
              "    </tr>\n",
              "    <tr>\n",
              "      <th>Kitchen</th>\n",
              "      <td>2</td>\n",
              "    </tr>\n",
              "    <tr>\n",
              "      <th>Luggage &amp; Bags</th>\n",
              "      <td>1</td>\n",
              "    </tr>\n",
              "    <tr>\n",
              "      <th>Luggage &amp; Bags</th>\n",
              "      <td>2</td>\n",
              "    </tr>\n",
              "    <tr>\n",
              "      <th>Religious &amp; Ceremonial</th>\n",
              "      <td>1</td>\n",
              "    </tr>\n",
              "    <tr>\n",
              "      <th>Women</th>\n",
              "      <td>3</td>\n",
              "    </tr>\n",
              "  </tbody>\n",
              "</table>\n",
              "</div>"
            ],
            "text/plain": [
              "col_0                       NO of products\n",
              "category                                  \n",
              "Apparel & Accessories                 1066\n",
              "Arts & Entertainment                     1\n",
              "Electronics                             45\n",
              "Electronics & Appliances                 4\n",
              "Food, Beverages & Tobacco               54\n",
              "Furniture                                9\n",
              "Hardware                                 2\n",
              "Health & Beauty                        192\n",
              "Home & Garden                          912\n",
              "Kitchen                                  2\n",
              "Luggage & Bags                           1\n",
              "Luggage & Bags                           2\n",
              "Religious & Ceremonial                   1\n",
              "Women                                    3"
            ]
          },
          "metadata": {},
          "execution_count": 18
        },
        {
          "output_type": "display_data",
          "data": {
            "image/png": "[encoded data removed]",
            "text/plain": [
              "<Figure size 432x288 with 1 Axes>"
            ]
          },
          "metadata": {
            "needs_background": "light"
          }
        }
      ]
    },
    {
      "cell_type": "code",
      "metadata": {
        "id": "Gv53KuIUe3YH"
      },
      "source": [
        "df=df.dropna()"
      ],
      "execution_count": null,
      "outputs": []
    },
    {
      "cell_type": "code",
      "metadata": {
        "id": "ShCtHAZB0Jvj"
      },
      "source": [
        "df=df.reset_index()"
      ],
      "execution_count": null,
      "outputs": []
    },
    {
      "cell_type": "code",
      "metadata": {
        "colab": {
          "base_uri": "https://localhost:8080/"
        },
        "id": "3T-WosVaediU",
        "outputId": "8316488c-6fe3-48e2-e549-0b33831b01f3"
      },
      "source": [
        "df.isna().sum()"
      ],
      "execution_count": null,
      "outputs": [
        {
          "output_type": "execute_result",
          "data": {
            "text/plain": [
              "index                    0\n",
              "id                       0\n",
              "title                    0\n",
              "description              0\n",
              "availability             0\n",
              "condition                0\n",
              "price                    0\n",
              "link                     0\n",
              "image_link               0\n",
              "brand                    0\n",
              "additional_image_link    0\n",
              "color                    0\n",
              "product_type             0\n",
              "sale_price               0\n",
              "shipping                 0\n",
              "size                     0\n",
              "custom_label_0           0\n",
              "custom_label_1           0\n",
              "custom_label_2           0\n",
              "category                 0\n",
              "subcategory              0\n",
              "dtype: int64"
            ]
          },
          "metadata": {},
          "execution_count": 21
        }
      ]
    },
    {
      "cell_type": "code",
      "metadata": {
        "colab": {
          "base_uri": "https://localhost:8080/",
          "height": 608
        },
        "id": "NejJNMsM0OON",
        "outputId": "f91f98f3-50f6-4e61-bf26-f1b39f9feb1b"
      },
      "source": [
        "df.head()"
      ],
      "execution_count": null,
      "outputs": [
        {
          "output_type": "execute_result",
          "data": {
            "text/html": [
              "<div>\n",
              "<style scoped>\n",
              "    .dataframe tbody tr th:only-of-type {\n",
              "        vertical-align: middle;\n",
              "    }\n",
              "\n",
              "    .dataframe tbody tr th {\n",
              "        vertical-align: top;\n",
              "    }\n",
              "\n",
              "    .dataframe thead th {\n",
              "        text-align: right;\n",
              "    }\n",
              "</style>\n",
              "<table border=\"1\" class=\"dataframe\">\n",
              "  <thead>\n",
              "    <tr style=\"text-align: right;\">\n",
              "      <th></th>\n",
              "      <th>index</th>\n",
              "      <th>id</th>\n",
              "      <th>title</th>\n",
              "      <th>description</th>\n",
              "      <th>availability</th>\n",
              "      <th>condition</th>\n",
              "      <th>price</th>\n",
              "      <th>link</th>\n",
              "      <th>image_link</th>\n",
              "      <th>brand</th>\n",
              "      <th>additional_image_link</th>\n",
              "      <th>color</th>\n",
              "      <th>product_type</th>\n",
              "      <th>sale_price</th>\n",
              "      <th>shipping</th>\n",
              "      <th>size</th>\n",
              "      <th>custom_label_0</th>\n",
              "      <th>custom_label_1</th>\n",
              "      <th>custom_label_2</th>\n",
              "      <th>category</th>\n",
              "      <th>subcategory</th>\n",
              "    </tr>\n",
              "  </thead>\n",
              "  <tbody>\n",
              "    <tr>\n",
              "      <th>0</th>\n",
              "      <td>0</td>\n",
              "      <td>1</td>\n",
              "      <td>Set of 3 Rani Haar and Earrings by Touchstone</td>\n",
              "      <td>Online Shopping for Set of 3 Rani Haar and Ear...</td>\n",
              "      <td>out of stock</td>\n",
              "      <td>new</td>\n",
              "      <td>1800.00 INR</td>\n",
              "      <td>https://www.ezmall.com/women/jewellery/artific...</td>\n",
              "      <td>https://cdn.ezmall.com/0/images/product/1/001-...</td>\n",
              "      <td>Touchstone</td>\n",
              "      <td>https://cdn.ezmall.com/0/images/product/1/001-...</td>\n",
              "      <td>MULTI</td>\n",
              "      <td>Women &gt; Jewellery &gt; Artificial Jewellery &gt; Nec...</td>\n",
              "      <td>999.00 INR</td>\n",
              "      <td>51.00 INR</td>\n",
              "      <td>no size</td>\n",
              "      <td>Women</td>\n",
              "      <td>Jewellery</td>\n",
              "      <td>Artificial Jewellery</td>\n",
              "      <td>Apparel &amp; Accessories</td>\n",
              "      <td>Jewelry &gt; Jewelry Sets</td>\n",
              "    </tr>\n",
              "    <tr>\n",
              "      <th>1</th>\n",
              "      <td>1</td>\n",
              "      <td>5</td>\n",
              "      <td>Lotus Herbals 5 Pc Anti Ageing Kit</td>\n",
              "      <td>Online Shopping for Lotus Herbals 5 Pc Anti Ag...</td>\n",
              "      <td>out of stock</td>\n",
              "      <td>new</td>\n",
              "      <td>1765.00 INR</td>\n",
              "      <td>https://www.ezmall.com/women/beauty-personal-c...</td>\n",
              "      <td>https://cdn.ezmall.com/0/images/product/5/Lotu...</td>\n",
              "      <td>Lotus Herbals</td>\n",
              "      <td>https://cdn.ezmall.com/0/images/product/5/Lotu...</td>\n",
              "      <td>MULTI,GOLD</td>\n",
              "      <td>Women &gt; Beauty &amp; Personal Care &gt; Body &amp; Skin C...</td>\n",
              "      <td>1199.00 INR</td>\n",
              "      <td>101.00 INR</td>\n",
              "      <td>no size</td>\n",
              "      <td>Women</td>\n",
              "      <td>Beauty &amp; Personal Care</td>\n",
              "      <td>Body &amp; Skin Care</td>\n",
              "      <td>Health &amp; Beauty</td>\n",
              "      <td>Personal Care &gt; Cosmetics &gt; Skin Care &gt; Anti-...</td>\n",
              "    </tr>\n",
              "    <tr>\n",
              "      <th>2</th>\n",
              "      <td>2</td>\n",
              "      <td>27</td>\n",
              "      <td>Touchstone 6 Pair Ethnic Earring Collection</td>\n",
              "      <td>Online Shopping for Touchstone 6 Pair Ethnic E...</td>\n",
              "      <td>out of stock</td>\n",
              "      <td>new</td>\n",
              "      <td>1800.00 INR</td>\n",
              "      <td>https://www.ezmall.com/women/jewellery/artific...</td>\n",
              "      <td>https://cdn.ezmall.com/0/images/product/27/001...</td>\n",
              "      <td>Touchstone</td>\n",
              "      <td>https://cdn.ezmall.com/0/images/product/27/001...</td>\n",
              "      <td>no color</td>\n",
              "      <td>Women &gt; Jewellery &gt; Artificial Jewellery &gt; Ear...</td>\n",
              "      <td>999.00 INR</td>\n",
              "      <td>51.00 INR</td>\n",
              "      <td>no size</td>\n",
              "      <td>Women</td>\n",
              "      <td>Jewellery</td>\n",
              "      <td>Artificial Jewellery</td>\n",
              "      <td>Apparel &amp; Accessories</td>\n",
              "      <td>Jewelry &gt; Jewelry Sets</td>\n",
              "    </tr>\n",
              "    <tr>\n",
              "      <th>3</th>\n",
              "      <td>3</td>\n",
              "      <td>47</td>\n",
              "      <td>Khadi Mauri 12 Pc. Herbal Skin Care Kit not use</td>\n",
              "      <td>Wondering if one kit alone could suffice the b...</td>\n",
              "      <td>out of stock</td>\n",
              "      <td>new</td>\n",
              "      <td>1600.00 INR</td>\n",
              "      <td>https://www.ezmall.com/women/beauty-personal-c...</td>\n",
              "      <td>https://cdn.ezmall.com/0/images/product/47/Kha...</td>\n",
              "      <td>Khadi Mauri</td>\n",
              "      <td>https://cdn.ezmall.com/0/images/product/47/Kha...</td>\n",
              "      <td>no color</td>\n",
              "      <td>Women &gt; Beauty &amp; Personal Care &gt; Body &amp; Skin C...</td>\n",
              "      <td>1199.00 INR</td>\n",
              "      <td>51.00 INR</td>\n",
              "      <td>no size</td>\n",
              "      <td>Women</td>\n",
              "      <td>Beauty &amp; Personal Care</td>\n",
              "      <td>Body &amp; Skin Care</td>\n",
              "      <td>Health &amp; Beauty</td>\n",
              "      <td>Personal Care &gt; Cosmetics &gt; Skin Care &gt; Anti-...</td>\n",
              "    </tr>\n",
              "    <tr>\n",
              "      <th>4</th>\n",
              "      <td>4</td>\n",
              "      <td>53</td>\n",
              "      <td>2 Rajasthani Bed Sheets &amp; 4 Pillow Covers Not USE</td>\n",
              "      <td>Inspired from the rich architectural heritage ...</td>\n",
              "      <td>out of stock</td>\n",
              "      <td>new</td>\n",
              "      <td>5000.00 INR</td>\n",
              "      <td>https://www.ezmall.com/home-kitchen/furnishing...</td>\n",
              "      <td>https://cdn.ezmall.com/0/images/product/53/001...</td>\n",
              "      <td>Bella Casa</td>\n",
              "      <td>https://cdn.ezmall.com/0/images/product/53/001...</td>\n",
              "      <td>no color</td>\n",
              "      <td>Home &amp; Kitchen &gt; Furnishings &amp; Furniture &gt; Bed...</td>\n",
              "      <td>1699.00 INR</td>\n",
              "      <td>101.00 INR</td>\n",
              "      <td>no size</td>\n",
              "      <td>Home &amp; Kitchen</td>\n",
              "      <td>Furnishings &amp; Furniture</td>\n",
              "      <td>Bed Linen</td>\n",
              "      <td>Home &amp; Garden</td>\n",
              "      <td>Linens &amp; Bedding &gt; Bedding &gt; Bed Sheets</td>\n",
              "    </tr>\n",
              "  </tbody>\n",
              "</table>\n",
              "</div>"
            ],
            "text/plain": [
              "   index  ...                                        subcategory\n",
              "0      0  ...                             Jewelry > Jewelry Sets\n",
              "1      1  ...   Personal Care > Cosmetics > Skin Care > Anti-...\n",
              "2      2  ...                             Jewelry > Jewelry Sets\n",
              "3      3  ...   Personal Care > Cosmetics > Skin Care > Anti-...\n",
              "4      4  ...            Linens & Bedding > Bedding > Bed Sheets\n",
              "\n",
              "[5 rows x 21 columns]"
            ]
          },
          "metadata": {},
          "execution_count": 22
        }
      ]
    },
    {
      "cell_type": "code",
      "metadata": {
        "colab": {
          "base_uri": "https://localhost:8080/"
        },
        "id": "OXINgOSCzmsT",
        "outputId": "77549624-59b4-4c3e-8840-0133bf6e5a0c"
      },
      "source": [
        "df.shape"
      ],
      "execution_count": null,
      "outputs": [
        {
          "output_type": "execute_result",
          "data": {
            "text/plain": [
              "(2285, 21)"
            ]
          },
          "metadata": {},
          "execution_count": 23
        }
      ]
    },
    {
      "cell_type": "code",
      "metadata": {
        "id": "ZgmDr1GU3LBg"
      },
      "source": [
        "df=df.drop(['index','availability','condition','additional_image_link','sale_price','product_type','subcategory'],axis=1)"
      ],
      "execution_count": null,
      "outputs": []
    },
    {
      "cell_type": "code",
      "metadata": {
        "colab": {
          "base_uri": "https://localhost:8080/"
        },
        "id": "e1zQawkW4ixX",
        "outputId": "d78304ae-5f75-4a2a-89f5-2fbe2ec09273"
      },
      "source": [
        "df.shape"
      ],
      "execution_count": null,
      "outputs": [
        {
          "output_type": "execute_result",
          "data": {
            "text/plain": [
              "(2285, 14)"
            ]
          },
          "metadata": {},
          "execution_count": 25
        }
      ]
    },
    {
      "cell_type": "code",
      "metadata": {
        "colab": {
          "base_uri": "https://localhost:8080/"
        },
        "id": "X2UZxjeL4jx_",
        "outputId": "96ca5ffd-1e98-4d2d-9a53-27807631e323"
      },
      "source": [
        "df.isna().sum()"
      ],
      "execution_count": null,
      "outputs": [
        {
          "output_type": "execute_result",
          "data": {
            "text/plain": [
              "id                0\n",
              "title             0\n",
              "description       0\n",
              "price             0\n",
              "link              0\n",
              "image_link        0\n",
              "brand             0\n",
              "color             0\n",
              "shipping          0\n",
              "size              0\n",
              "custom_label_0    0\n",
              "custom_label_1    0\n",
              "custom_label_2    0\n",
              "category          0\n",
              "dtype: int64"
            ]
          },
          "metadata": {},
          "execution_count": 26
        }
      ]
    },
    {
      "cell_type": "code",
      "metadata": {
        "colab": {
          "base_uri": "https://localhost:8080/",
          "height": 1000
        },
        "id": "0OAaBiE55I0Z",
        "outputId": "9c22cd66-6147-4ca0-8219-9bd248f8c01a"
      },
      "source": [
        "df"
      ],
      "execution_count": null,
      "outputs": [
        {
          "output_type": "execute_result",
          "data": {
            "text/html": [
              "<div>\n",
              "<style scoped>\n",
              "    .dataframe tbody tr th:only-of-type {\n",
              "        vertical-align: middle;\n",
              "    }\n",
              "\n",
              "    .dataframe tbody tr th {\n",
              "        vertical-align: top;\n",
              "    }\n",
              "\n",
              "    .dataframe thead th {\n",
              "        text-align: right;\n",
              "    }\n",
              "</style>\n",
              "<table border=\"1\" class=\"dataframe\">\n",
              "  <thead>\n",
              "    <tr style=\"text-align: right;\">\n",
              "      <th></th>\n",
              "      <th>id</th>\n",
              "      <th>title</th>\n",
              "      <th>description</th>\n",
              "      <th>price</th>\n",
              "      <th>link</th>\n",
              "      <th>image_link</th>\n",
              "      <th>brand</th>\n",
              "      <th>color</th>\n",
              "      <th>shipping</th>\n",
              "      <th>size</th>\n",
              "      <th>custom_label_0</th>\n",
              "      <th>custom_label_1</th>\n",
              "      <th>custom_label_2</th>\n",
              "      <th>category</th>\n",
              "    </tr>\n",
              "  </thead>\n",
              "  <tbody>\n",
              "    <tr>\n",
              "      <th>0</th>\n",
              "      <td>1</td>\n",
              "      <td>Set of 3 Rani Haar and Earrings by Touchstone</td>\n",
              "      <td>Online Shopping for Set of 3 Rani Haar and Ear...</td>\n",
              "      <td>1800.00 INR</td>\n",
              "      <td>https://www.ezmall.com/women/jewellery/artific...</td>\n",
              "      <td>https://cdn.ezmall.com/0/images/product/1/001-...</td>\n",
              "      <td>Touchstone</td>\n",
              "      <td>MULTI</td>\n",
              "      <td>51.00 INR</td>\n",
              "      <td>no size</td>\n",
              "      <td>Women</td>\n",
              "      <td>Jewellery</td>\n",
              "      <td>Artificial Jewellery</td>\n",
              "      <td>Apparel &amp; Accessories</td>\n",
              "    </tr>\n",
              "    <tr>\n",
              "      <th>1</th>\n",
              "      <td>5</td>\n",
              "      <td>Lotus Herbals 5 Pc Anti Ageing Kit</td>\n",
              "      <td>Online Shopping for Lotus Herbals 5 Pc Anti Ag...</td>\n",
              "      <td>1765.00 INR</td>\n",
              "      <td>https://www.ezmall.com/women/beauty-personal-c...</td>\n",
              "      <td>https://cdn.ezmall.com/0/images/product/5/Lotu...</td>\n",
              "      <td>Lotus Herbals</td>\n",
              "      <td>MULTI,GOLD</td>\n",
              "      <td>101.00 INR</td>\n",
              "      <td>no size</td>\n",
              "      <td>Women</td>\n",
              "      <td>Beauty &amp; Personal Care</td>\n",
              "      <td>Body &amp; Skin Care</td>\n",
              "      <td>Health &amp; Beauty</td>\n",
              "    </tr>\n",
              "    <tr>\n",
              "      <th>2</th>\n",
              "      <td>27</td>\n",
              "      <td>Touchstone 6 Pair Ethnic Earring Collection</td>\n",
              "      <td>Online Shopping for Touchstone 6 Pair Ethnic E...</td>\n",
              "      <td>1800.00 INR</td>\n",
              "      <td>https://www.ezmall.com/women/jewellery/artific...</td>\n",
              "      <td>https://cdn.ezmall.com/0/images/product/27/001...</td>\n",
              "      <td>Touchstone</td>\n",
              "      <td>no color</td>\n",
              "      <td>51.00 INR</td>\n",
              "      <td>no size</td>\n",
              "      <td>Women</td>\n",
              "      <td>Jewellery</td>\n",
              "      <td>Artificial Jewellery</td>\n",
              "      <td>Apparel &amp; Accessories</td>\n",
              "    </tr>\n",
              "    <tr>\n",
              "      <th>3</th>\n",
              "      <td>47</td>\n",
              "      <td>Khadi Mauri 12 Pc. Herbal Skin Care Kit not use</td>\n",
              "      <td>Wondering if one kit alone could suffice the b...</td>\n",
              "      <td>1600.00 INR</td>\n",
              "      <td>https://www.ezmall.com/women/beauty-personal-c...</td>\n",
              "      <td>https://cdn.ezmall.com/0/images/product/47/Kha...</td>\n",
              "      <td>Khadi Mauri</td>\n",
              "      <td>no color</td>\n",
              "      <td>51.00 INR</td>\n",
              "      <td>no size</td>\n",
              "      <td>Women</td>\n",
              "      <td>Beauty &amp; Personal Care</td>\n",
              "      <td>Body &amp; Skin Care</td>\n",
              "      <td>Health &amp; Beauty</td>\n",
              "    </tr>\n",
              "    <tr>\n",
              "      <th>4</th>\n",
              "      <td>53</td>\n",
              "      <td>2 Rajasthani Bed Sheets &amp; 4 Pillow Covers Not USE</td>\n",
              "      <td>Inspired from the rich architectural heritage ...</td>\n",
              "      <td>5000.00 INR</td>\n",
              "      <td>https://www.ezmall.com/home-kitchen/furnishing...</td>\n",
              "      <td>https://cdn.ezmall.com/0/images/product/53/001...</td>\n",
              "      <td>Bella Casa</td>\n",
              "      <td>no color</td>\n",
              "      <td>101.00 INR</td>\n",
              "      <td>no size</td>\n",
              "      <td>Home &amp; Kitchen</td>\n",
              "      <td>Furnishings &amp; Furniture</td>\n",
              "      <td>Bed Linen</td>\n",
              "      <td>Home &amp; Garden</td>\n",
              "    </tr>\n",
              "    <tr>\n",
              "      <th>...</th>\n",
              "      <td>...</td>\n",
              "      <td>...</td>\n",
              "      <td>...</td>\n",
              "      <td>...</td>\n",
              "      <td>...</td>\n",
              "      <td>...</td>\n",
              "      <td>...</td>\n",
              "      <td>...</td>\n",
              "      <td>...</td>\n",
              "      <td>...</td>\n",
              "      <td>...</td>\n",
              "      <td>...</td>\n",
              "      <td>...</td>\n",
              "      <td>...</td>\n",
              "    </tr>\n",
              "    <tr>\n",
              "      <th>2280</th>\n",
              "      <td>141221</td>\n",
              "      <td>Pick Any 1 Wardrobe with Shoe Rack + Free 3 Pc...</td>\n",
              "      <td>Pick Any 1 Wardrobe with Shoe Rack + Free 3 Pc...</td>\n",
              "      <td>4999.00 INR</td>\n",
              "      <td>https://www.ezmall.com/home-kitchen/home-impro...</td>\n",
              "      <td>https://cdn.ezmall.com/0/images/product/141221...</td>\n",
              "      <td>Harrisson</td>\n",
              "      <td>PINK,PURPLE,BROWN</td>\n",
              "      <td>201.00 INR</td>\n",
              "      <td>no size</td>\n",
              "      <td>Home &amp; Kitchen</td>\n",
              "      <td>Home Improvement</td>\n",
              "      <td>Home Storage &amp; Organising</td>\n",
              "      <td>Home &amp; Garden</td>\n",
              "    </tr>\n",
              "    <tr>\n",
              "      <th>2281</th>\n",
              "      <td>141222</td>\n",
              "      <td>Pick any 1 Leather Retail Shoulder Handbag</td>\n",
              "      <td>Pick any 1 Leather Retail Shoulder Handbag</td>\n",
              "      <td>999.00 INR</td>\n",
              "      <td>https://www.ezmall.com/women/women-accessories...</td>\n",
              "      <td>https://cdn.ezmall.com/0/images/product/141222...</td>\n",
              "      <td>Leather Retail</td>\n",
              "      <td>MAROON,YELLOW,PINK,BLACK,PURPLE</td>\n",
              "      <td>0.00 INR</td>\n",
              "      <td>no size</td>\n",
              "      <td>Women</td>\n",
              "      <td>Women Accessories</td>\n",
              "      <td>Hand Bags &amp; Clutches</td>\n",
              "      <td>Apparel &amp; Accessories</td>\n",
              "    </tr>\n",
              "    <tr>\n",
              "      <th>2282</th>\n",
              "      <td>141223</td>\n",
              "      <td>Pick Any 1 Leather Retail Women Beautiful Handbag</td>\n",
              "      <td>Pick Any 1 Leather Retail Women Beautiful Handbag</td>\n",
              "      <td>999.00 INR</td>\n",
              "      <td>https://www.ezmall.com/women/women-accessories...</td>\n",
              "      <td>https://cdn.ezmall.com/0/images/product/141223...</td>\n",
              "      <td>Leather Retail</td>\n",
              "      <td>MAROON,BLACK</td>\n",
              "      <td>0.00 INR</td>\n",
              "      <td>no size</td>\n",
              "      <td>Women</td>\n",
              "      <td>Women Accessories</td>\n",
              "      <td>Hand Bags &amp; Clutches</td>\n",
              "      <td>Apparel &amp; Accessories</td>\n",
              "    </tr>\n",
              "    <tr>\n",
              "      <th>2283</th>\n",
              "      <td>141246</td>\n",
              "      <td>Egg Boiler</td>\n",
              "      <td>Egg Boiler</td>\n",
              "      <td>1000.00 INR</td>\n",
              "      <td>https://www.ezmall.com/home-kitchen/kitchen-di...</td>\n",
              "      <td>https://cdn.ezmall.com/0/images/product/141246...</td>\n",
              "      <td>Unique Dealz</td>\n",
              "      <td>no color</td>\n",
              "      <td>0.00 INR</td>\n",
              "      <td>no size</td>\n",
              "      <td>Home &amp; Kitchen</td>\n",
              "      <td>Kitchen &amp; Dining</td>\n",
              "      <td>Kitchen Tools</td>\n",
              "      <td>Home &amp; Garden</td>\n",
              "    </tr>\n",
              "    <tr>\n",
              "      <th>2284</th>\n",
              "      <td>141247</td>\n",
              "      <td>7 Pc Knife Set</td>\n",
              "      <td>7 Pc Knife Set</td>\n",
              "      <td>1200.00 INR</td>\n",
              "      <td>https://www.ezmall.com/home-kitchen/kitchen-di...</td>\n",
              "      <td>https://cdn.ezmall.com/0/images/product/141247...</td>\n",
              "      <td>Unique Dealz</td>\n",
              "      <td>no color</td>\n",
              "      <td>0.00 INR</td>\n",
              "      <td>no size</td>\n",
              "      <td>Home &amp; Kitchen</td>\n",
              "      <td>Kitchen &amp; Dining</td>\n",
              "      <td>Kitchen Tools</td>\n",
              "      <td>Home &amp; Garden</td>\n",
              "    </tr>\n",
              "  </tbody>\n",
              "</table>\n",
              "<p>2285 rows × 14 columns</p>\n",
              "</div>"
            ],
            "text/plain": [
              "          id  ...                category\n",
              "0          1  ...  Apparel & Accessories \n",
              "1          5  ...        Health & Beauty \n",
              "2         27  ...  Apparel & Accessories \n",
              "3         47  ...        Health & Beauty \n",
              "4         53  ...          Home & Garden \n",
              "...      ...  ...                     ...\n",
              "2280  141221  ...          Home & Garden \n",
              "2281  141222  ...  Apparel & Accessories \n",
              "2282  141223  ...  Apparel & Accessories \n",
              "2283  141246  ...          Home & Garden \n",
              "2284  141247  ...          Home & Garden \n",
              "\n",
              "[2285 rows x 14 columns]"
            ]
          },
          "metadata": {},
          "execution_count": 27
        }
      ]
    },
    {
      "cell_type": "code",
      "metadata": {
        "id": "whMUCPKh5cBN"
      },
      "source": [
        "df['title']=df['title'].str.strip()\n",
        "df['custom_label_0']=df['custom_label_0'].str.strip()\n",
        "df['custom_label_1']=df['custom_label_1'].str.strip()\n",
        "df['custom_label_2']=df['custom_label_2'].str.strip()\n",
        "df['category']=df['category'].str.strip()\n",
        "df['price']=df['price'].str.strip()"
      ],
      "execution_count": null,
      "outputs": []
    },
    {
      "cell_type": "code",
      "metadata": {
        "id": "fLaCcP9l614w"
      },
      "source": [
        "df['price'] = df['price'].str.split('INR', 1, expand=True)\n"
      ],
      "execution_count": null,
      "outputs": []
    },
    {
      "cell_type": "code",
      "metadata": {
        "colab": {
          "base_uri": "https://localhost:8080/",
          "height": 35
        },
        "id": "yCKc8C6i8B5r",
        "outputId": "77ee389e-fe14-43c6-b02f-0ead5c84af08"
      },
      "source": [
        "df['price'].min()"
      ],
      "execution_count": null,
      "outputs": [
        {
          "output_type": "execute_result",
          "data": {
            "application/vnd.google.colaboratory.intrinsic+json": {
              "type": "string"
            },
            "text/plain": [
              "'1000.00 '"
            ]
          },
          "metadata": {},
          "execution_count": 30
        }
      ]
    },
    {
      "cell_type": "code",
      "metadata": {
        "colab": {
          "base_uri": "https://localhost:8080/",
          "height": 35
        },
        "id": "fMzwQPKL7Tkq",
        "outputId": "dcbc1ea9-ff5d-4c8e-d6c7-85478497adc4"
      },
      "source": [
        "df['price'][22]"
      ],
      "execution_count": null,
      "outputs": [
        {
          "output_type": "execute_result",
          "data": {
            "application/vnd.google.colaboratory.intrinsic+json": {
              "type": "string"
            },
            "text/plain": [
              "'1999.00 '"
            ]
          },
          "metadata": {},
          "execution_count": 31
        }
      ]
    },
    {
      "cell_type": "code",
      "metadata": {
        "id": "2Kwn-yKs8vW4"
      },
      "source": [
        "df=df.drop_duplicates(subset=['title'])"
      ],
      "execution_count": null,
      "outputs": []
    },
    {
      "cell_type": "code",
      "metadata": {
        "colab": {
          "base_uri": "https://localhost:8080/"
        },
        "id": "u6kA6SMG9F2B",
        "outputId": "b903f086-973d-4348-b8bc-03737b291dc0"
      },
      "source": [
        "df.shape"
      ],
      "execution_count": null,
      "outputs": [
        {
          "output_type": "execute_result",
          "data": {
            "text/plain": [
              "(2130, 14)"
            ]
          },
          "metadata": {},
          "execution_count": 33
        }
      ]
    },
    {
      "cell_type": "code",
      "metadata": {
        "id": "tL2KMC0r9GgM"
      },
      "source": [
        "df=df.reset_index()"
      ],
      "execution_count": null,
      "outputs": []
    },
    {
      "cell_type": "code",
      "metadata": {
        "colab": {
          "base_uri": "https://localhost:8080/",
          "height": 1000
        },
        "id": "xs-0LqXI92Qa",
        "outputId": "ac6e3b3d-7048-4c1c-9f3e-da2eddaf985e"
      },
      "source": [
        "df"
      ],
      "execution_count": null,
      "outputs": [
        {
          "output_type": "execute_result",
          "data": {
            "text/html": [
              "<div>\n",
              "<style scoped>\n",
              "    .dataframe tbody tr th:only-of-type {\n",
              "        vertical-align: middle;\n",
              "    }\n",
              "\n",
              "    .dataframe tbody tr th {\n",
              "        vertical-align: top;\n",
              "    }\n",
              "\n",
              "    .dataframe thead th {\n",
              "        text-align: right;\n",
              "    }\n",
              "</style>\n",
              "<table border=\"1\" class=\"dataframe\">\n",
              "  <thead>\n",
              "    <tr style=\"text-align: right;\">\n",
              "      <th></th>\n",
              "      <th>index</th>\n",
              "      <th>id</th>\n",
              "      <th>title</th>\n",
              "      <th>description</th>\n",
              "      <th>price</th>\n",
              "      <th>link</th>\n",
              "      <th>image_link</th>\n",
              "      <th>brand</th>\n",
              "      <th>color</th>\n",
              "      <th>shipping</th>\n",
              "      <th>size</th>\n",
              "      <th>custom_label_0</th>\n",
              "      <th>custom_label_1</th>\n",
              "      <th>custom_label_2</th>\n",
              "      <th>category</th>\n",
              "    </tr>\n",
              "  </thead>\n",
              "  <tbody>\n",
              "    <tr>\n",
              "      <th>0</th>\n",
              "      <td>0</td>\n",
              "      <td>1</td>\n",
              "      <td>Set of 3 Rani Haar and Earrings by Touchstone</td>\n",
              "      <td>Online Shopping for Set of 3 Rani Haar and Ear...</td>\n",
              "      <td>1800.00</td>\n",
              "      <td>https://www.ezmall.com/women/jewellery/artific...</td>\n",
              "      <td>https://cdn.ezmall.com/0/images/product/1/001-...</td>\n",
              "      <td>Touchstone</td>\n",
              "      <td>MULTI</td>\n",
              "      <td>51.00 INR</td>\n",
              "      <td>no size</td>\n",
              "      <td>Women</td>\n",
              "      <td>Jewellery</td>\n",
              "      <td>Artificial Jewellery</td>\n",
              "      <td>Apparel &amp; Accessories</td>\n",
              "    </tr>\n",
              "    <tr>\n",
              "      <th>1</th>\n",
              "      <td>1</td>\n",
              "      <td>5</td>\n",
              "      <td>Lotus Herbals 5 Pc Anti Ageing Kit</td>\n",
              "      <td>Online Shopping for Lotus Herbals 5 Pc Anti Ag...</td>\n",
              "      <td>1765.00</td>\n",
              "      <td>https://www.ezmall.com/women/beauty-personal-c...</td>\n",
              "      <td>https://cdn.ezmall.com/0/images/product/5/Lotu...</td>\n",
              "      <td>Lotus Herbals</td>\n",
              "      <td>MULTI,GOLD</td>\n",
              "      <td>101.00 INR</td>\n",
              "      <td>no size</td>\n",
              "      <td>Women</td>\n",
              "      <td>Beauty &amp; Personal Care</td>\n",
              "      <td>Body &amp; Skin Care</td>\n",
              "      <td>Health &amp; Beauty</td>\n",
              "    </tr>\n",
              "    <tr>\n",
              "      <th>2</th>\n",
              "      <td>2</td>\n",
              "      <td>27</td>\n",
              "      <td>Touchstone 6 Pair Ethnic Earring Collection</td>\n",
              "      <td>Online Shopping for Touchstone 6 Pair Ethnic E...</td>\n",
              "      <td>1800.00</td>\n",
              "      <td>https://www.ezmall.com/women/jewellery/artific...</td>\n",
              "      <td>https://cdn.ezmall.com/0/images/product/27/001...</td>\n",
              "      <td>Touchstone</td>\n",
              "      <td>no color</td>\n",
              "      <td>51.00 INR</td>\n",
              "      <td>no size</td>\n",
              "      <td>Women</td>\n",
              "      <td>Jewellery</td>\n",
              "      <td>Artificial Jewellery</td>\n",
              "      <td>Apparel &amp; Accessories</td>\n",
              "    </tr>\n",
              "    <tr>\n",
              "      <th>3</th>\n",
              "      <td>3</td>\n",
              "      <td>47</td>\n",
              "      <td>Khadi Mauri 12 Pc. Herbal Skin Care Kit not use</td>\n",
              "      <td>Wondering if one kit alone could suffice the b...</td>\n",
              "      <td>1600.00</td>\n",
              "      <td>https://www.ezmall.com/women/beauty-personal-c...</td>\n",
              "      <td>https://cdn.ezmall.com/0/images/product/47/Kha...</td>\n",
              "      <td>Khadi Mauri</td>\n",
              "      <td>no color</td>\n",
              "      <td>51.00 INR</td>\n",
              "      <td>no size</td>\n",
              "      <td>Women</td>\n",
              "      <td>Beauty &amp; Personal Care</td>\n",
              "      <td>Body &amp; Skin Care</td>\n",
              "      <td>Health &amp; Beauty</td>\n",
              "    </tr>\n",
              "    <tr>\n",
              "      <th>4</th>\n",
              "      <td>4</td>\n",
              "      <td>53</td>\n",
              "      <td>2 Rajasthani Bed Sheets &amp; 4 Pillow Covers Not USE</td>\n",
              "      <td>Inspired from the rich architectural heritage ...</td>\n",
              "      <td>5000.00</td>\n",
              "      <td>https://www.ezmall.com/home-kitchen/furnishing...</td>\n",
              "      <td>https://cdn.ezmall.com/0/images/product/53/001...</td>\n",
              "      <td>Bella Casa</td>\n",
              "      <td>no color</td>\n",
              "      <td>101.00 INR</td>\n",
              "      <td>no size</td>\n",
              "      <td>Home &amp; Kitchen</td>\n",
              "      <td>Furnishings &amp; Furniture</td>\n",
              "      <td>Bed Linen</td>\n",
              "      <td>Home &amp; Garden</td>\n",
              "    </tr>\n",
              "    <tr>\n",
              "      <th>...</th>\n",
              "      <td>...</td>\n",
              "      <td>...</td>\n",
              "      <td>...</td>\n",
              "      <td>...</td>\n",
              "      <td>...</td>\n",
              "      <td>...</td>\n",
              "      <td>...</td>\n",
              "      <td>...</td>\n",
              "      <td>...</td>\n",
              "      <td>...</td>\n",
              "      <td>...</td>\n",
              "      <td>...</td>\n",
              "      <td>...</td>\n",
              "      <td>...</td>\n",
              "      <td>...</td>\n",
              "    </tr>\n",
              "    <tr>\n",
              "      <th>2125</th>\n",
              "      <td>2280</td>\n",
              "      <td>141221</td>\n",
              "      <td>Pick Any 1 Wardrobe with Shoe Rack + Free 3 Pc...</td>\n",
              "      <td>Pick Any 1 Wardrobe with Shoe Rack + Free 3 Pc...</td>\n",
              "      <td>4999.00</td>\n",
              "      <td>https://www.ezmall.com/home-kitchen/home-impro...</td>\n",
              "      <td>https://cdn.ezmall.com/0/images/product/141221...</td>\n",
              "      <td>Harrisson</td>\n",
              "      <td>PINK,PURPLE,BROWN</td>\n",
              "      <td>201.00 INR</td>\n",
              "      <td>no size</td>\n",
              "      <td>Home &amp; Kitchen</td>\n",
              "      <td>Home Improvement</td>\n",
              "      <td>Home Storage &amp; Organising</td>\n",
              "      <td>Home &amp; Garden</td>\n",
              "    </tr>\n",
              "    <tr>\n",
              "      <th>2126</th>\n",
              "      <td>2281</td>\n",
              "      <td>141222</td>\n",
              "      <td>Pick any 1 Leather Retail Shoulder Handbag</td>\n",
              "      <td>Pick any 1 Leather Retail Shoulder Handbag</td>\n",
              "      <td>999.00</td>\n",
              "      <td>https://www.ezmall.com/women/women-accessories...</td>\n",
              "      <td>https://cdn.ezmall.com/0/images/product/141222...</td>\n",
              "      <td>Leather Retail</td>\n",
              "      <td>MAROON,YELLOW,PINK,BLACK,PURPLE</td>\n",
              "      <td>0.00 INR</td>\n",
              "      <td>no size</td>\n",
              "      <td>Women</td>\n",
              "      <td>Women Accessories</td>\n",
              "      <td>Hand Bags &amp; Clutches</td>\n",
              "      <td>Apparel &amp; Accessories</td>\n",
              "    </tr>\n",
              "    <tr>\n",
              "      <th>2127</th>\n",
              "      <td>2282</td>\n",
              "      <td>141223</td>\n",
              "      <td>Pick Any 1 Leather Retail Women Beautiful Handbag</td>\n",
              "      <td>Pick Any 1 Leather Retail Women Beautiful Handbag</td>\n",
              "      <td>999.00</td>\n",
              "      <td>https://www.ezmall.com/women/women-accessories...</td>\n",
              "      <td>https://cdn.ezmall.com/0/images/product/141223...</td>\n",
              "      <td>Leather Retail</td>\n",
              "      <td>MAROON,BLACK</td>\n",
              "      <td>0.00 INR</td>\n",
              "      <td>no size</td>\n",
              "      <td>Women</td>\n",
              "      <td>Women Accessories</td>\n",
              "      <td>Hand Bags &amp; Clutches</td>\n",
              "      <td>Apparel &amp; Accessories</td>\n",
              "    </tr>\n",
              "    <tr>\n",
              "      <th>2128</th>\n",
              "      <td>2283</td>\n",
              "      <td>141246</td>\n",
              "      <td>Egg Boiler</td>\n",
              "      <td>Egg Boiler</td>\n",
              "      <td>1000.00</td>\n",
              "      <td>https://www.ezmall.com/home-kitchen/kitchen-di...</td>\n",
              "      <td>https://cdn.ezmall.com/0/images/product/141246...</td>\n",
              "      <td>Unique Dealz</td>\n",
              "      <td>no color</td>\n",
              "      <td>0.00 INR</td>\n",
              "      <td>no size</td>\n",
              "      <td>Home &amp; Kitchen</td>\n",
              "      <td>Kitchen &amp; Dining</td>\n",
              "      <td>Kitchen Tools</td>\n",
              "      <td>Home &amp; Garden</td>\n",
              "    </tr>\n",
              "    <tr>\n",
              "      <th>2129</th>\n",
              "      <td>2284</td>\n",
              "      <td>141247</td>\n",
              "      <td>7 Pc Knife Set</td>\n",
              "      <td>7 Pc Knife Set</td>\n",
              "      <td>1200.00</td>\n",
              "      <td>https://www.ezmall.com/home-kitchen/kitchen-di...</td>\n",
              "      <td>https://cdn.ezmall.com/0/images/product/141247...</td>\n",
              "      <td>Unique Dealz</td>\n",
              "      <td>no color</td>\n",
              "      <td>0.00 INR</td>\n",
              "      <td>no size</td>\n",
              "      <td>Home &amp; Kitchen</td>\n",
              "      <td>Kitchen &amp; Dining</td>\n",
              "      <td>Kitchen Tools</td>\n",
              "      <td>Home &amp; Garden</td>\n",
              "    </tr>\n",
              "  </tbody>\n",
              "</table>\n",
              "<p>2130 rows × 15 columns</p>\n",
              "</div>"
            ],
            "text/plain": [
              "      index      id  ...             custom_label_2               category\n",
              "0         0       1  ...       Artificial Jewellery  Apparel & Accessories\n",
              "1         1       5  ...           Body & Skin Care        Health & Beauty\n",
              "2         2      27  ...       Artificial Jewellery  Apparel & Accessories\n",
              "3         3      47  ...           Body & Skin Care        Health & Beauty\n",
              "4         4      53  ...                  Bed Linen          Home & Garden\n",
              "...     ...     ...  ...                        ...                    ...\n",
              "2125   2280  141221  ...  Home Storage & Organising          Home & Garden\n",
              "2126   2281  141222  ...       Hand Bags & Clutches  Apparel & Accessories\n",
              "2127   2282  141223  ...       Hand Bags & Clutches  Apparel & Accessories\n",
              "2128   2283  141246  ...              Kitchen Tools          Home & Garden\n",
              "2129   2284  141247  ...              Kitchen Tools          Home & Garden\n",
              "\n",
              "[2130 rows x 15 columns]"
            ]
          },
          "metadata": {},
          "execution_count": 35
        }
      ]
    },
    {
      "cell_type": "markdown",
      "metadata": {
        "id": "9Ii7Sir2gky8"
      },
      "source": [
        ""
      ]
    },
    {
      "cell_type": "code",
      "metadata": {
        "id": "j0jFfFc89mzA"
      },
      "source": [
        "df=df.drop('index',axis=1)"
      ],
      "execution_count": null,
      "outputs": []
    },
    {
      "cell_type": "code",
      "metadata": {
        "id": "sagnmvtW9xVu"
      },
      "source": [
        "df.to_csv('data.csv')"
      ],
      "execution_count": null,
      "outputs": []
    }
  ]
}