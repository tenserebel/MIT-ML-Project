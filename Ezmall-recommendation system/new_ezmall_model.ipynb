{
  "nbformat": 4,
  "nbformat_minor": 0,
  "metadata": {
    "colab": {
      "name": "new_ezmall_model.ipynb",
      "provenance": []
    },
    "kernelspec": {
      "display_name": "Python 3",
      "name": "python3"
    },
    "language_info": {
      "name": "python"
    }
  },
  "cells": [
    {
      "cell_type": "markdown",
      "metadata": {
        "id": "kOpZfNi5ur2n"
      },
      "source": [
        "**EZMALL Recommendation System:**\n",
        "\n",
        "\n",
        "---\n",
        "\n",
        "By: \n",
        "\n",
        "Prem Jha(premjha3010@gmail.com)\n",
        "  \n",
        "Aditya Jain(adityajain1974@gmail.com)\n",
        "\n",
        "Pranav Badhe(badhepranav5@gmail.com)"
      ]
    },
    {
      "cell_type": "markdown",
      "metadata": {
        "id": "fU2JMSZLwHiF"
      },
      "source": [
        "*This notebook contains model creation for the system*"
      ]
    },
    {
      "cell_type": "code",
      "metadata": {
        "id": "3OY--O_3_HHg"
      },
      "source": [
        "import pandas as pd\n",
        "import numpy as np\n",
        "\n",
        "from sklearn.preprocessing import MinMaxScaler\n",
        "from sklearn import neighbors\n",
        "\n",
        "import pprint\n",
        "\n",
        "from sklearn.feature_extraction.text import CountVectorizer\n",
        "from sklearn.metrics.pairwise import cosine_similarity\n",
        "\n",
        "from sklearn.metrics.pairwise import euclidean_distances"
      ],
      "execution_count": 1,
      "outputs": []
    },
    {
      "cell_type": "code",
      "metadata": {
        "id": "16iX94Mb_czD"
      },
      "source": [
        "df=pd.read_csv(\"/content/data_new.csv\")"
      ],
      "execution_count": 2,
      "outputs": []
    },
    {
      "cell_type": "code",
      "metadata": {
        "colab": {
          "base_uri": "https://localhost:8080/",
          "height": 1000
        },
        "id": "zwysbz-sABSN",
        "outputId": "7d255710-db11-4414-acbf-4bb41f63ffc0"
      },
      "source": [
        "df"
      ],
      "execution_count": 3,
      "outputs": [
        {
          "output_type": "execute_result",
          "data": {
            "text/html": [
              "<div>\n",
              "<style scoped>\n",
              "    .dataframe tbody tr th:only-of-type {\n",
              "        vertical-align: middle;\n",
              "    }\n",
              "\n",
              "    .dataframe tbody tr th {\n",
              "        vertical-align: top;\n",
              "    }\n",
              "\n",
              "    .dataframe thead th {\n",
              "        text-align: right;\n",
              "    }\n",
              "</style>\n",
              "<table border=\"1\" class=\"dataframe\">\n",
              "  <thead>\n",
              "    <tr style=\"text-align: right;\">\n",
              "      <th></th>\n",
              "      <th>Unnamed: 0</th>\n",
              "      <th>id</th>\n",
              "      <th>title</th>\n",
              "      <th>description</th>\n",
              "      <th>price</th>\n",
              "      <th>link</th>\n",
              "      <th>image_link</th>\n",
              "      <th>brand</th>\n",
              "      <th>color</th>\n",
              "      <th>shipping</th>\n",
              "      <th>size</th>\n",
              "      <th>custom_label_0</th>\n",
              "      <th>custom_label_1</th>\n",
              "      <th>custom_label_2</th>\n",
              "      <th>category</th>\n",
              "    </tr>\n",
              "  </thead>\n",
              "  <tbody>\n",
              "    <tr>\n",
              "      <th>0</th>\n",
              "      <td>0</td>\n",
              "      <td>1</td>\n",
              "      <td>Set of 3 Rani Haar and Earrings by Touchstone</td>\n",
              "      <td>Online Shopping for Set of 3 Rani Haar and Ear...</td>\n",
              "      <td>1800.0</td>\n",
              "      <td>https://www.ezmall.com/women/jewellery/artific...</td>\n",
              "      <td>https://cdn.ezmall.com/0/images/product/1/001-...</td>\n",
              "      <td>Touchstone</td>\n",
              "      <td>MULTI</td>\n",
              "      <td>51.00 INR</td>\n",
              "      <td>no size</td>\n",
              "      <td>Women</td>\n",
              "      <td>Jewellery</td>\n",
              "      <td>Artificial Jewellery</td>\n",
              "      <td>Apparel &amp; Accessories</td>\n",
              "    </tr>\n",
              "    <tr>\n",
              "      <th>1</th>\n",
              "      <td>1</td>\n",
              "      <td>5</td>\n",
              "      <td>Lotus Herbals 5 Pc Anti Ageing Kit</td>\n",
              "      <td>Online Shopping for Lotus Herbals 5 Pc Anti Ag...</td>\n",
              "      <td>1765.0</td>\n",
              "      <td>https://www.ezmall.com/women/beauty-personal-c...</td>\n",
              "      <td>https://cdn.ezmall.com/0/images/product/5/Lotu...</td>\n",
              "      <td>Lotus Herbals</td>\n",
              "      <td>MULTI,GOLD</td>\n",
              "      <td>101.00 INR</td>\n",
              "      <td>no size</td>\n",
              "      <td>Women</td>\n",
              "      <td>Beauty &amp; Personal Care</td>\n",
              "      <td>Body &amp; Skin Care</td>\n",
              "      <td>Health &amp; Beauty</td>\n",
              "    </tr>\n",
              "    <tr>\n",
              "      <th>2</th>\n",
              "      <td>2</td>\n",
              "      <td>27</td>\n",
              "      <td>Touchstone 6 Pair Ethnic Earring Collection</td>\n",
              "      <td>Online Shopping for Touchstone 6 Pair Ethnic E...</td>\n",
              "      <td>1800.0</td>\n",
              "      <td>https://www.ezmall.com/women/jewellery/artific...</td>\n",
              "      <td>https://cdn.ezmall.com/0/images/product/27/001...</td>\n",
              "      <td>Touchstone</td>\n",
              "      <td>no color</td>\n",
              "      <td>51.00 INR</td>\n",
              "      <td>no size</td>\n",
              "      <td>Women</td>\n",
              "      <td>Jewellery</td>\n",
              "      <td>Artificial Jewellery</td>\n",
              "      <td>Apparel &amp; Accessories</td>\n",
              "    </tr>\n",
              "    <tr>\n",
              "      <th>3</th>\n",
              "      <td>3</td>\n",
              "      <td>47</td>\n",
              "      <td>Khadi Mauri 12 Pc. Herbal Skin Care Kit not use</td>\n",
              "      <td>Wondering if one kit alone could suffice the b...</td>\n",
              "      <td>1600.0</td>\n",
              "      <td>https://www.ezmall.com/women/beauty-personal-c...</td>\n",
              "      <td>https://cdn.ezmall.com/0/images/product/47/Kha...</td>\n",
              "      <td>Khadi Mauri</td>\n",
              "      <td>no color</td>\n",
              "      <td>51.00 INR</td>\n",
              "      <td>no size</td>\n",
              "      <td>Women</td>\n",
              "      <td>Beauty &amp; Personal Care</td>\n",
              "      <td>Body &amp; Skin Care</td>\n",
              "      <td>Health &amp; Beauty</td>\n",
              "    </tr>\n",
              "    <tr>\n",
              "      <th>4</th>\n",
              "      <td>4</td>\n",
              "      <td>53</td>\n",
              "      <td>2 Rajasthani Bed Sheets &amp; 4 Pillow Covers Not USE</td>\n",
              "      <td>Inspired from the rich architectural heritage ...</td>\n",
              "      <td>5000.0</td>\n",
              "      <td>https://www.ezmall.com/home-kitchen/furnishing...</td>\n",
              "      <td>https://cdn.ezmall.com/0/images/product/53/001...</td>\n",
              "      <td>Bella Casa</td>\n",
              "      <td>no color</td>\n",
              "      <td>101.00 INR</td>\n",
              "      <td>no size</td>\n",
              "      <td>Home &amp; Kitchen</td>\n",
              "      <td>Furnishings &amp; Furniture</td>\n",
              "      <td>Bed Linen</td>\n",
              "      <td>Home &amp; Garden</td>\n",
              "    </tr>\n",
              "    <tr>\n",
              "      <th>...</th>\n",
              "      <td>...</td>\n",
              "      <td>...</td>\n",
              "      <td>...</td>\n",
              "      <td>...</td>\n",
              "      <td>...</td>\n",
              "      <td>...</td>\n",
              "      <td>...</td>\n",
              "      <td>...</td>\n",
              "      <td>...</td>\n",
              "      <td>...</td>\n",
              "      <td>...</td>\n",
              "      <td>...</td>\n",
              "      <td>...</td>\n",
              "      <td>...</td>\n",
              "      <td>...</td>\n",
              "    </tr>\n",
              "    <tr>\n",
              "      <th>2125</th>\n",
              "      <td>2125</td>\n",
              "      <td>141221</td>\n",
              "      <td>Pick Any 1 Wardrobe with Shoe Rack + Free 3 Pc...</td>\n",
              "      <td>Pick Any 1 Wardrobe with Shoe Rack + Free 3 Pc...</td>\n",
              "      <td>4999.0</td>\n",
              "      <td>https://www.ezmall.com/home-kitchen/home-impro...</td>\n",
              "      <td>https://cdn.ezmall.com/0/images/product/141221...</td>\n",
              "      <td>Harrisson</td>\n",
              "      <td>PINK,PURPLE,BROWN</td>\n",
              "      <td>201.00 INR</td>\n",
              "      <td>no size</td>\n",
              "      <td>Home &amp; Kitchen</td>\n",
              "      <td>Home Improvement</td>\n",
              "      <td>Home Storage &amp; Organising</td>\n",
              "      <td>Home &amp; Garden</td>\n",
              "    </tr>\n",
              "    <tr>\n",
              "      <th>2126</th>\n",
              "      <td>2126</td>\n",
              "      <td>141222</td>\n",
              "      <td>Pick any 1 Leather Retail Shoulder Handbag</td>\n",
              "      <td>Pick any 1 Leather Retail Shoulder Handbag</td>\n",
              "      <td>999.0</td>\n",
              "      <td>https://www.ezmall.com/women/women-accessories...</td>\n",
              "      <td>https://cdn.ezmall.com/0/images/product/141222...</td>\n",
              "      <td>Leather Retail</td>\n",
              "      <td>MAROON,YELLOW,PINK,BLACK,PURPLE</td>\n",
              "      <td>0.00 INR</td>\n",
              "      <td>no size</td>\n",
              "      <td>Women</td>\n",
              "      <td>Women Accessories</td>\n",
              "      <td>Hand Bags &amp; Clutches</td>\n",
              "      <td>Apparel &amp; Accessories</td>\n",
              "    </tr>\n",
              "    <tr>\n",
              "      <th>2127</th>\n",
              "      <td>2127</td>\n",
              "      <td>141223</td>\n",
              "      <td>Pick Any 1 Leather Retail Women Beautiful Handbag</td>\n",
              "      <td>Pick Any 1 Leather Retail Women Beautiful Handbag</td>\n",
              "      <td>999.0</td>\n",
              "      <td>https://www.ezmall.com/women/women-accessories...</td>\n",
              "      <td>https://cdn.ezmall.com/0/images/product/141223...</td>\n",
              "      <td>Leather Retail</td>\n",
              "      <td>MAROON,BLACK</td>\n",
              "      <td>0.00 INR</td>\n",
              "      <td>no size</td>\n",
              "      <td>Women</td>\n",
              "      <td>Women Accessories</td>\n",
              "      <td>Hand Bags &amp; Clutches</td>\n",
              "      <td>Apparel &amp; Accessories</td>\n",
              "    </tr>\n",
              "    <tr>\n",
              "      <th>2128</th>\n",
              "      <td>2128</td>\n",
              "      <td>141246</td>\n",
              "      <td>Egg Boiler</td>\n",
              "      <td>Egg Boiler</td>\n",
              "      <td>1000.0</td>\n",
              "      <td>https://www.ezmall.com/home-kitchen/kitchen-di...</td>\n",
              "      <td>https://cdn.ezmall.com/0/images/product/141246...</td>\n",
              "      <td>Unique Dealz</td>\n",
              "      <td>no color</td>\n",
              "      <td>0.00 INR</td>\n",
              "      <td>no size</td>\n",
              "      <td>Home &amp; Kitchen</td>\n",
              "      <td>Kitchen &amp; Dining</td>\n",
              "      <td>Kitchen Tools</td>\n",
              "      <td>Home &amp; Garden</td>\n",
              "    </tr>\n",
              "    <tr>\n",
              "      <th>2129</th>\n",
              "      <td>2129</td>\n",
              "      <td>141247</td>\n",
              "      <td>7 Pc Knife Set</td>\n",
              "      <td>7 Pc Knife Set</td>\n",
              "      <td>1200.0</td>\n",
              "      <td>https://www.ezmall.com/home-kitchen/kitchen-di...</td>\n",
              "      <td>https://cdn.ezmall.com/0/images/product/141247...</td>\n",
              "      <td>Unique Dealz</td>\n",
              "      <td>no color</td>\n",
              "      <td>0.00 INR</td>\n",
              "      <td>no size</td>\n",
              "      <td>Home &amp; Kitchen</td>\n",
              "      <td>Kitchen &amp; Dining</td>\n",
              "      <td>Kitchen Tools</td>\n",
              "      <td>Home &amp; Garden</td>\n",
              "    </tr>\n",
              "  </tbody>\n",
              "</table>\n",
              "<p>2130 rows × 15 columns</p>\n",
              "</div>"
            ],
            "text/plain": [
              "      Unnamed: 0      id  ...             custom_label_2               category\n",
              "0              0       1  ...       Artificial Jewellery  Apparel & Accessories\n",
              "1              1       5  ...           Body & Skin Care        Health & Beauty\n",
              "2              2      27  ...       Artificial Jewellery  Apparel & Accessories\n",
              "3              3      47  ...           Body & Skin Care        Health & Beauty\n",
              "4              4      53  ...                  Bed Linen          Home & Garden\n",
              "...          ...     ...  ...                        ...                    ...\n",
              "2125        2125  141221  ...  Home Storage & Organising          Home & Garden\n",
              "2126        2126  141222  ...       Hand Bags & Clutches  Apparel & Accessories\n",
              "2127        2127  141223  ...       Hand Bags & Clutches  Apparel & Accessories\n",
              "2128        2128  141246  ...              Kitchen Tools          Home & Garden\n",
              "2129        2129  141247  ...              Kitchen Tools          Home & Garden\n",
              "\n",
              "[2130 rows x 15 columns]"
            ]
          },
          "metadata": {},
          "execution_count": 3
        }
      ]
    },
    {
      "cell_type": "code",
      "metadata": {
        "id": "NqOzEl_KACIC"
      },
      "source": [
        "df=df.drop(df.columns[0], axis=1)"
      ],
      "execution_count": 4,
      "outputs": []
    },
    {
      "cell_type": "code",
      "metadata": {
        "colab": {
          "base_uri": "https://localhost:8080/"
        },
        "id": "Ao8sHurCARe5",
        "outputId": "2299e3d1-87fa-4005-93f9-588c186c6ebd"
      },
      "source": [
        "df.shape"
      ],
      "execution_count": 5,
      "outputs": [
        {
          "output_type": "execute_result",
          "data": {
            "text/plain": [
              "(2130, 14)"
            ]
          },
          "metadata": {},
          "execution_count": 5
        }
      ]
    },
    {
      "cell_type": "code",
      "metadata": {
        "colab": {
          "base_uri": "https://localhost:8080/"
        },
        "id": "Mxs1hCQRASju",
        "outputId": "9d50187e-f258-4697-e649-398660c50983"
      },
      "source": [
        "df.columns"
      ],
      "execution_count": 6,
      "outputs": [
        {
          "output_type": "execute_result",
          "data": {
            "text/plain": [
              "Index(['id', 'title', 'description', 'price', 'link', 'image_link', 'brand',\n",
              "       'color', 'shipping', 'size', 'custom_label_0', 'custom_label_1',\n",
              "       'custom_label_2', 'category'],\n",
              "      dtype='object')"
            ]
          },
          "metadata": {},
          "execution_count": 6
        }
      ]
    },
    {
      "cell_type": "code",
      "metadata": {
        "id": "4neCYhKyAUiw"
      },
      "source": [
        "df['price']=df['price'].astype(int)"
      ],
      "execution_count": 7,
      "outputs": []
    },
    {
      "cell_type": "code",
      "metadata": {
        "id": "OrDvOzMbAzur"
      },
      "source": [
        "df.loc[ (df['price'] >= 0) & (df['price'] <= 1000), 'price_range'] = \"0-1000\"\n",
        "df.loc[ (df['price'] > 1000) & (df['price'] <= 2000), 'price_range'] = \"1000-2000\"\n",
        "df.loc[ (df['price'] > 2000) & (df['price'] <= 3000), 'price_range'] = \"2000-3000\"\n",
        "df.loc[ (df['price'] > 3000) & (df['price'] <= 4000), 'price_range'] = \"3000-4000\"\n",
        "df.loc[ (df['price'] > 4000) & (df['price'] <= 5000), 'price_range'] = \"4000-5000\"\n",
        "df.loc[ (df['price'] > 5000) & (df['price'] <= 6000), 'price_range'] = \"5000-6000\"\n",
        "df.loc[ (df['price'] > 6000) & (df['price'] <= 7000), 'price_range'] = \"6000-7000\"\n",
        "df.loc[ (df['price'] > 7000) & (df['price'] <= 8000), 'price_range'] = \"7000-8000\"\n",
        "df.loc[ (df['price'] > 8000) & (df['price'] <= 9000), 'price_range'] = \"8000-9000\"\n",
        "df.loc[ (df['price'] > 9000) & (df['price'] <= 10000), 'price_range'] = \"9000-10000\""
      ],
      "execution_count": 8,
      "outputs": []
    },
    {
      "cell_type": "code",
      "metadata": {
        "colab": {
          "base_uri": "https://localhost:8080/",
          "height": 1000
        },
        "id": "KzodbFdwB5f4",
        "outputId": "5ccc2cff-5b9a-4813-82d7-f4bdfdd9770a"
      },
      "source": [
        "df"
      ],
      "execution_count": 9,
      "outputs": [
        {
          "output_type": "execute_result",
          "data": {
            "text/html": [
              "<div>\n",
              "<style scoped>\n",
              "    .dataframe tbody tr th:only-of-type {\n",
              "        vertical-align: middle;\n",
              "    }\n",
              "\n",
              "    .dataframe tbody tr th {\n",
              "        vertical-align: top;\n",
              "    }\n",
              "\n",
              "    .dataframe thead th {\n",
              "        text-align: right;\n",
              "    }\n",
              "</style>\n",
              "<table border=\"1\" class=\"dataframe\">\n",
              "  <thead>\n",
              "    <tr style=\"text-align: right;\">\n",
              "      <th></th>\n",
              "      <th>id</th>\n",
              "      <th>title</th>\n",
              "      <th>description</th>\n",
              "      <th>price</th>\n",
              "      <th>link</th>\n",
              "      <th>image_link</th>\n",
              "      <th>brand</th>\n",
              "      <th>color</th>\n",
              "      <th>shipping</th>\n",
              "      <th>size</th>\n",
              "      <th>custom_label_0</th>\n",
              "      <th>custom_label_1</th>\n",
              "      <th>custom_label_2</th>\n",
              "      <th>category</th>\n",
              "      <th>price_range</th>\n",
              "    </tr>\n",
              "  </thead>\n",
              "  <tbody>\n",
              "    <tr>\n",
              "      <th>0</th>\n",
              "      <td>1</td>\n",
              "      <td>Set of 3 Rani Haar and Earrings by Touchstone</td>\n",
              "      <td>Online Shopping for Set of 3 Rani Haar and Ear...</td>\n",
              "      <td>1800</td>\n",
              "      <td>https://www.ezmall.com/women/jewellery/artific...</td>\n",
              "      <td>https://cdn.ezmall.com/0/images/product/1/001-...</td>\n",
              "      <td>Touchstone</td>\n",
              "      <td>MULTI</td>\n",
              "      <td>51.00 INR</td>\n",
              "      <td>no size</td>\n",
              "      <td>Women</td>\n",
              "      <td>Jewellery</td>\n",
              "      <td>Artificial Jewellery</td>\n",
              "      <td>Apparel &amp; Accessories</td>\n",
              "      <td>1000-2000</td>\n",
              "    </tr>\n",
              "    <tr>\n",
              "      <th>1</th>\n",
              "      <td>5</td>\n",
              "      <td>Lotus Herbals 5 Pc Anti Ageing Kit</td>\n",
              "      <td>Online Shopping for Lotus Herbals 5 Pc Anti Ag...</td>\n",
              "      <td>1765</td>\n",
              "      <td>https://www.ezmall.com/women/beauty-personal-c...</td>\n",
              "      <td>https://cdn.ezmall.com/0/images/product/5/Lotu...</td>\n",
              "      <td>Lotus Herbals</td>\n",
              "      <td>MULTI,GOLD</td>\n",
              "      <td>101.00 INR</td>\n",
              "      <td>no size</td>\n",
              "      <td>Women</td>\n",
              "      <td>Beauty &amp; Personal Care</td>\n",
              "      <td>Body &amp; Skin Care</td>\n",
              "      <td>Health &amp; Beauty</td>\n",
              "      <td>1000-2000</td>\n",
              "    </tr>\n",
              "    <tr>\n",
              "      <th>2</th>\n",
              "      <td>27</td>\n",
              "      <td>Touchstone 6 Pair Ethnic Earring Collection</td>\n",
              "      <td>Online Shopping for Touchstone 6 Pair Ethnic E...</td>\n",
              "      <td>1800</td>\n",
              "      <td>https://www.ezmall.com/women/jewellery/artific...</td>\n",
              "      <td>https://cdn.ezmall.com/0/images/product/27/001...</td>\n",
              "      <td>Touchstone</td>\n",
              "      <td>no color</td>\n",
              "      <td>51.00 INR</td>\n",
              "      <td>no size</td>\n",
              "      <td>Women</td>\n",
              "      <td>Jewellery</td>\n",
              "      <td>Artificial Jewellery</td>\n",
              "      <td>Apparel &amp; Accessories</td>\n",
              "      <td>1000-2000</td>\n",
              "    </tr>\n",
              "    <tr>\n",
              "      <th>3</th>\n",
              "      <td>47</td>\n",
              "      <td>Khadi Mauri 12 Pc. Herbal Skin Care Kit not use</td>\n",
              "      <td>Wondering if one kit alone could suffice the b...</td>\n",
              "      <td>1600</td>\n",
              "      <td>https://www.ezmall.com/women/beauty-personal-c...</td>\n",
              "      <td>https://cdn.ezmall.com/0/images/product/47/Kha...</td>\n",
              "      <td>Khadi Mauri</td>\n",
              "      <td>no color</td>\n",
              "      <td>51.00 INR</td>\n",
              "      <td>no size</td>\n",
              "      <td>Women</td>\n",
              "      <td>Beauty &amp; Personal Care</td>\n",
              "      <td>Body &amp; Skin Care</td>\n",
              "      <td>Health &amp; Beauty</td>\n",
              "      <td>1000-2000</td>\n",
              "    </tr>\n",
              "    <tr>\n",
              "      <th>4</th>\n",
              "      <td>53</td>\n",
              "      <td>2 Rajasthani Bed Sheets &amp; 4 Pillow Covers Not USE</td>\n",
              "      <td>Inspired from the rich architectural heritage ...</td>\n",
              "      <td>5000</td>\n",
              "      <td>https://www.ezmall.com/home-kitchen/furnishing...</td>\n",
              "      <td>https://cdn.ezmall.com/0/images/product/53/001...</td>\n",
              "      <td>Bella Casa</td>\n",
              "      <td>no color</td>\n",
              "      <td>101.00 INR</td>\n",
              "      <td>no size</td>\n",
              "      <td>Home &amp; Kitchen</td>\n",
              "      <td>Furnishings &amp; Furniture</td>\n",
              "      <td>Bed Linen</td>\n",
              "      <td>Home &amp; Garden</td>\n",
              "      <td>4000-5000</td>\n",
              "    </tr>\n",
              "    <tr>\n",
              "      <th>...</th>\n",
              "      <td>...</td>\n",
              "      <td>...</td>\n",
              "      <td>...</td>\n",
              "      <td>...</td>\n",
              "      <td>...</td>\n",
              "      <td>...</td>\n",
              "      <td>...</td>\n",
              "      <td>...</td>\n",
              "      <td>...</td>\n",
              "      <td>...</td>\n",
              "      <td>...</td>\n",
              "      <td>...</td>\n",
              "      <td>...</td>\n",
              "      <td>...</td>\n",
              "      <td>...</td>\n",
              "    </tr>\n",
              "    <tr>\n",
              "      <th>2125</th>\n",
              "      <td>141221</td>\n",
              "      <td>Pick Any 1 Wardrobe with Shoe Rack + Free 3 Pc...</td>\n",
              "      <td>Pick Any 1 Wardrobe with Shoe Rack + Free 3 Pc...</td>\n",
              "      <td>4999</td>\n",
              "      <td>https://www.ezmall.com/home-kitchen/home-impro...</td>\n",
              "      <td>https://cdn.ezmall.com/0/images/product/141221...</td>\n",
              "      <td>Harrisson</td>\n",
              "      <td>PINK,PURPLE,BROWN</td>\n",
              "      <td>201.00 INR</td>\n",
              "      <td>no size</td>\n",
              "      <td>Home &amp; Kitchen</td>\n",
              "      <td>Home Improvement</td>\n",
              "      <td>Home Storage &amp; Organising</td>\n",
              "      <td>Home &amp; Garden</td>\n",
              "      <td>4000-5000</td>\n",
              "    </tr>\n",
              "    <tr>\n",
              "      <th>2126</th>\n",
              "      <td>141222</td>\n",
              "      <td>Pick any 1 Leather Retail Shoulder Handbag</td>\n",
              "      <td>Pick any 1 Leather Retail Shoulder Handbag</td>\n",
              "      <td>999</td>\n",
              "      <td>https://www.ezmall.com/women/women-accessories...</td>\n",
              "      <td>https://cdn.ezmall.com/0/images/product/141222...</td>\n",
              "      <td>Leather Retail</td>\n",
              "      <td>MAROON,YELLOW,PINK,BLACK,PURPLE</td>\n",
              "      <td>0.00 INR</td>\n",
              "      <td>no size</td>\n",
              "      <td>Women</td>\n",
              "      <td>Women Accessories</td>\n",
              "      <td>Hand Bags &amp; Clutches</td>\n",
              "      <td>Apparel &amp; Accessories</td>\n",
              "      <td>0-1000</td>\n",
              "    </tr>\n",
              "    <tr>\n",
              "      <th>2127</th>\n",
              "      <td>141223</td>\n",
              "      <td>Pick Any 1 Leather Retail Women Beautiful Handbag</td>\n",
              "      <td>Pick Any 1 Leather Retail Women Beautiful Handbag</td>\n",
              "      <td>999</td>\n",
              "      <td>https://www.ezmall.com/women/women-accessories...</td>\n",
              "      <td>https://cdn.ezmall.com/0/images/product/141223...</td>\n",
              "      <td>Leather Retail</td>\n",
              "      <td>MAROON,BLACK</td>\n",
              "      <td>0.00 INR</td>\n",
              "      <td>no size</td>\n",
              "      <td>Women</td>\n",
              "      <td>Women Accessories</td>\n",
              "      <td>Hand Bags &amp; Clutches</td>\n",
              "      <td>Apparel &amp; Accessories</td>\n",
              "      <td>0-1000</td>\n",
              "    </tr>\n",
              "    <tr>\n",
              "      <th>2128</th>\n",
              "      <td>141246</td>\n",
              "      <td>Egg Boiler</td>\n",
              "      <td>Egg Boiler</td>\n",
              "      <td>1000</td>\n",
              "      <td>https://www.ezmall.com/home-kitchen/kitchen-di...</td>\n",
              "      <td>https://cdn.ezmall.com/0/images/product/141246...</td>\n",
              "      <td>Unique Dealz</td>\n",
              "      <td>no color</td>\n",
              "      <td>0.00 INR</td>\n",
              "      <td>no size</td>\n",
              "      <td>Home &amp; Kitchen</td>\n",
              "      <td>Kitchen &amp; Dining</td>\n",
              "      <td>Kitchen Tools</td>\n",
              "      <td>Home &amp; Garden</td>\n",
              "      <td>0-1000</td>\n",
              "    </tr>\n",
              "    <tr>\n",
              "      <th>2129</th>\n",
              "      <td>141247</td>\n",
              "      <td>7 Pc Knife Set</td>\n",
              "      <td>7 Pc Knife Set</td>\n",
              "      <td>1200</td>\n",
              "      <td>https://www.ezmall.com/home-kitchen/kitchen-di...</td>\n",
              "      <td>https://cdn.ezmall.com/0/images/product/141247...</td>\n",
              "      <td>Unique Dealz</td>\n",
              "      <td>no color</td>\n",
              "      <td>0.00 INR</td>\n",
              "      <td>no size</td>\n",
              "      <td>Home &amp; Kitchen</td>\n",
              "      <td>Kitchen &amp; Dining</td>\n",
              "      <td>Kitchen Tools</td>\n",
              "      <td>Home &amp; Garden</td>\n",
              "      <td>1000-2000</td>\n",
              "    </tr>\n",
              "  </tbody>\n",
              "</table>\n",
              "<p>2130 rows × 15 columns</p>\n",
              "</div>"
            ],
            "text/plain": [
              "          id  ... price_range\n",
              "0          1  ...   1000-2000\n",
              "1          5  ...   1000-2000\n",
              "2         27  ...   1000-2000\n",
              "3         47  ...   1000-2000\n",
              "4         53  ...   4000-5000\n",
              "...      ...  ...         ...\n",
              "2125  141221  ...   4000-5000\n",
              "2126  141222  ...      0-1000\n",
              "2127  141223  ...      0-1000\n",
              "2128  141246  ...      0-1000\n",
              "2129  141247  ...   1000-2000\n",
              "\n",
              "[2130 rows x 15 columns]"
            ]
          },
          "metadata": {},
          "execution_count": 9
        }
      ]
    },
    {
      "cell_type": "markdown",
      "metadata": {
        "id": "ouLtiIatVww0"
      },
      "source": [
        "# K-nearest neighbour\n"
      ]
    },
    {
      "cell_type": "code",
      "metadata": {
        "colab": {
          "base_uri": "https://localhost:8080/",
          "height": 0
        },
        "id": "XcTlEHb8EwW9",
        "outputId": "063b5f57-3e3b-4025-ccd9-cf7da2baa90d"
      },
      "source": [
        "df['title'][1930]"
      ],
      "execution_count": 10,
      "outputs": [
        {
          "output_type": "execute_result",
          "data": {
            "application/vnd.google.colaboratory.intrinsic+json": {
              "type": "string"
            },
            "text/plain": [
              "'Marbello Rich Ivory Stainless Steel Insulated Kitchen Set'"
            ]
          },
          "metadata": {},
          "execution_count": 10
        }
      ]
    },
    {
      "cell_type": "code",
      "metadata": {
        "id": "jg22MkaqB7eG"
      },
      "source": [
        "brand_df = pd.get_dummies(df['brand'])\n",
        "category_df = pd.get_dummies(df['category'])\n",
        "label0_df = pd.get_dummies(df['custom_label_0'])\n",
        "label1_df = pd.get_dummies(df['custom_label_1'])\n",
        "label2_df = pd.get_dummies(df['custom_label_2'])\n",
        "price_df=pd.get_dummies(df['price_range'])"
      ],
      "execution_count": 11,
      "outputs": []
    },
    {
      "cell_type": "code",
      "metadata": {
        "id": "QvpAUWdgDHbm"
      },
      "source": [
        "features_df = pd.concat([brand_df, category_df,label0_df,label1_df,label2_df,price_df], axis=1)"
      ],
      "execution_count": 12,
      "outputs": []
    },
    {
      "cell_type": "code",
      "metadata": {
        "id": "msblQlYUDS2A"
      },
      "source": [
        "min_max_scaler = MinMaxScaler()\n",
        "features = min_max_scaler.fit_transform(features_df)"
      ],
      "execution_count": 13,
      "outputs": []
    },
    {
      "cell_type": "code",
      "metadata": {
        "id": "aGDlaA4Ksecw"
      },
      "source": [
        "features_df.to_csv('features.csv')"
      ],
      "execution_count": 14,
      "outputs": []
    },
    {
      "cell_type": "code",
      "metadata": {
        "id": "NpuX0CChDd1n"
      },
      "source": [
        "def knn(m):\n",
        "  model = neighbors.NearestNeighbors(n_neighbors=m, algorithm='auto')\n",
        "  model.fit(features) \n",
        "  dist, idlist = model.kneighbors(features)\n",
        "  return dist,idlist"
      ],
      "execution_count": 15,
      "outputs": []
    },
    {
      "cell_type": "code",
      "metadata": {
        "id": "nSCrHJS7Dl0t"
      },
      "source": [
        "def Recommender(name,n):\n",
        "    dist,idlist=knn(n+1)\n",
        "    prod_list = []\n",
        "    id_list=[]\n",
        "    recomm=[]\n",
        "    prod_id = df[df['title'] == name].index\n",
        "    prod_id = prod_id[0]\n",
        "    print(type(prod_id))\n",
        "    for newid in idlist[prod_id]:\n",
        "        prod_list.append(df.iloc[newid].title)\n",
        "        id_list.append(newid)\n",
        "    for i in range(0,len(prod_list)):\n",
        "      recomm.append(f\"{prod_list[i]}\")\n",
        "    return recomm"
      ],
      "execution_count": 16,
      "outputs": []
    },
    {
      "cell_type": "code",
      "metadata": {
        "id": "4k8DYbEFDtDU",
        "colab": {
          "base_uri": "https://localhost:8080/"
        },
        "outputId": "42064c25-9d0a-423c-9605-fd31805fe1b6"
      },
      "source": [
        "input=\"Blue Faded Whiskered Jeans\"\n",
        "nn=Recommender(input,7)"
      ],
      "execution_count": 17,
      "outputs": [
        {
          "output_type": "stream",
          "name": "stdout",
          "text": [
            "<class 'numpy.int64'>\n"
          ]
        }
      ]
    },
    {
      "cell_type": "code",
      "metadata": {
        "colab": {
          "base_uri": "https://localhost:8080/"
        },
        "id": "kxlkmULGFoKc",
        "outputId": "300134c0-e6ce-481e-ebe5-c2c269e716c3"
      },
      "source": [
        "if str(nn[0])==str(input):\n",
        "      print(*nn[1:], sep=\"\\n\")\n",
        "else:\n",
        "      print(*nn, sep=\"\\n\")"
      ],
      "execution_count": 18,
      "outputs": [
        {
          "output_type": "stream",
          "name": "stdout",
          "text": [
            "Teal Blue Whiskered Jeans\n",
            "Dark Indigo Jeans\n",
            "Dark Blue Tinted Washed Jeans\n",
            "Blue Faded Jeans\n",
            "Light Blue Washed Jeans\n",
            "Blue Rain Drop Whiskered Washed Jeans\n",
            "Grey-Blue Basic Jeans\n"
          ]
        }
      ]
    },
    {
      "cell_type": "markdown",
      "metadata": {
        "id": "rMS94Z0BV4gK"
      },
      "source": [
        "# Cosine similarity"
      ]
    },
    {
      "cell_type": "code",
      "metadata": {
        "id": "n-Xy6V-XPMB6"
      },
      "source": [
        "def to_low(strok:str):\n",
        "    return strok.lower()"
      ],
      "execution_count": 19,
      "outputs": []
    },
    {
      "cell_type": "code",
      "metadata": {
        "colab": {
          "base_uri": "https://localhost:8080/"
        },
        "id": "DfhK40xxOYHg",
        "outputId": "ee36e62c-b0b8-4f81-ccce-cb28f7e9a0f1"
      },
      "source": [
        "df.columns"
      ],
      "execution_count": 20,
      "outputs": [
        {
          "output_type": "execute_result",
          "data": {
            "text/plain": [
              "Index(['id', 'title', 'description', 'price', 'link', 'image_link', 'brand',\n",
              "       'color', 'shipping', 'size', 'custom_label_0', 'custom_label_1',\n",
              "       'custom_label_2', 'category', 'price_range'],\n",
              "      dtype='object')"
            ]
          },
          "metadata": {},
          "execution_count": 20
        }
      ]
    },
    {
      "cell_type": "code",
      "metadata": {
        "id": "Zl5J5p0CHz_D"
      },
      "source": [
        "index_df = df[['title', 'brand', 'category','custom_label_0','custom_label_1','custom_label_2']].copy()"
      ],
      "execution_count": 21,
      "outputs": []
    },
    {
      "cell_type": "code",
      "metadata": {
        "id": "aCA1EgoqOB0q"
      },
      "source": [
        "cols = ['category', 'brand','custom_label_0','custom_label_1','custom_label_2']\n",
        "index_df['feature'] = index_df['title'].copy().apply(to_low)\n",
        "for i in cols:\n",
        "  index_df['feature'] += ' ' + index_df[i].apply(to_low)"
      ],
      "execution_count": 22,
      "outputs": []
    },
    {
      "cell_type": "code",
      "metadata": {
        "colab": {
          "base_uri": "https://localhost:8080/",
          "height": 0
        },
        "id": "InuCBaENRQxm",
        "outputId": "1453e46c-7176-4780-863a-694cb9751e0a"
      },
      "source": [
        "index_df['custom_label_1'][111]"
      ],
      "execution_count": 23,
      "outputs": [
        {
          "output_type": "execute_result",
          "data": {
            "application/vnd.google.colaboratory.intrinsic+json": {
              "type": "string"
            },
            "text/plain": [
              "'Ethnic Wear'"
            ]
          },
          "metadata": {},
          "execution_count": 23
        }
      ]
    },
    {
      "cell_type": "code",
      "metadata": {
        "id": "2TQLg3A0sYII"
      },
      "source": [
        "#index_df.to_csv(\"index.csv\")"
      ],
      "execution_count": 24,
      "outputs": []
    },
    {
      "cell_type": "code",
      "metadata": {
        "colab": {
          "base_uri": "https://localhost:8080/"
        },
        "id": "Gz2pLfL9PlG5",
        "outputId": "5fc3c616-5e4b-4ab2-ac9a-fececb7414a4"
      },
      "source": [
        "index_df['feature']"
      ],
      "execution_count": 25,
      "outputs": [
        {
          "output_type": "execute_result",
          "data": {
            "text/plain": [
              "0       set of 3 rani haar and earrings by touchstone ...\n",
              "1       lotus herbals 5 pc anti ageing kit health & be...\n",
              "2       touchstone 6 pair ethnic earring collection ap...\n",
              "3       khadi mauri 12 pc. herbal skin care kit not us...\n",
              "4       2 rajasthani bed sheets & 4 pillow covers not ...\n",
              "                              ...                        \n",
              "2125    pick any 1 wardrobe with shoe rack + free 3 pc...\n",
              "2126    pick any 1 leather retail shoulder handbag app...\n",
              "2127    pick any 1 leather retail women beautiful hand...\n",
              "2128    egg boiler home & garden unique dealz home & k...\n",
              "2129    7 pc knife set home & garden unique dealz home...\n",
              "Name: feature, Length: 2130, dtype: object"
            ]
          },
          "metadata": {},
          "execution_count": 25
        }
      ]
    },
    {
      "cell_type": "code",
      "metadata": {
        "id": "GJwTuGAPPrOI"
      },
      "source": [
        "count_vec = CountVectorizer(stop_words='english')\n",
        "count_matrix = count_vec.fit_transform(index_df['feature'])\n",
        "cosine_sim = cosine_similarity(count_matrix, count_matrix)"
      ],
      "execution_count": 26,
      "outputs": []
    },
    {
      "cell_type": "code",
      "metadata": {
        "id": "GZJT7-J7Puwk"
      },
      "source": [
        "def cosine_recommender(nam:str,n):\n",
        "    ind = index_df[index_df['title'] == nam].index.to_list()[0]\n",
        "    cos_scor = list(enumerate(cosine_sim[ind]))\n",
        "    cos_scor = sorted(cos_scor, key=lambda x: x[1], reverse=True)\n",
        "    cos_scor = cos_scor[0:n+1]\n",
        "    new_ind = [i[0] for i in cos_scor]\n",
        "    return index_df['title'].iloc[new_ind]"
      ],
      "execution_count": 27,
      "outputs": []
    },
    {
      "cell_type": "code",
      "metadata": {
        "colab": {
          "base_uri": "https://localhost:8080/"
        },
        "id": "CRyBVYdyP5KI",
        "outputId": "3236fbf6-bc9a-41fd-f1d6-0b4a1946dea1"
      },
      "source": [
        "prod_name=\"Marbello Rich Ivory Stainless Steel Insulated Kitchen Set\"\n",
        "cos=cosine_recommender(prod_name,9)\n",
        "cos=cos.to_list()\n",
        "if str(cos[0])==str(prod_name):\n",
        "      print(*cos[1:], sep=\"\\n\")\n",
        "else:\n",
        "      print(*cos, sep=\"\\n\")"
      ],
      "execution_count": 28,
      "outputs": [
        {
          "output_type": "stream",
          "name": "stdout",
          "text": [
            "Modware Set of 3 Stainless Steel Insulated Casseroles\n",
            "Set of 5 Stainless Steel Cookware Set\n",
            "Set of 3 Stainless Steel Insulated Casserole\n",
            "Electric Kettle with Stainless steel insulated 25 pcs kitchen Set\n",
            "Kool Kammander Summer Set of 14 Kitchen Combo\n",
            "5 Ltr. Stainless Steel Insulated Dispenser with 4 Steel Glasses\n",
            "Set of 5 - 4 in 1 Storage Set\n",
            "Set of 3 Stainless Steel Casseroles + 1 Stainless Steel Electric Kettle\n",
            "Stainless Steel Insulated 3 Casseroles + 1 Flask + 5 Ltr.Dispenser + 1 Ladle & Free 6 Glass+Tray+Jar\n"
          ]
        }
      ]
    },
    {
      "cell_type": "markdown",
      "metadata": {
        "id": "qUrZy19Sw4jM"
      },
      "source": [
        "# Combiner"
      ]
    },
    {
      "cell_type": "code",
      "metadata": {
        "id": "ZIwkJeAHrv_I"
      },
      "source": [
        "def combiner(prod_name,n):\n",
        "  prod=list() \n",
        "  cos=cosine_recommender(prod_name,50)\n",
        "  cos=cos.to_list()\n",
        "  neir=Recommender(prod_name,50)\n",
        "  for j in range(0,len(neir)):\n",
        "    for k in range(0,len(cos)):\n",
        "      if neir[j]==cos[k]:\n",
        "        prod.append(neir[j]) \n",
        "  return prod[0:n]"
      ],
      "execution_count": 37,
      "outputs": []
    },
    {
      "cell_type": "code",
      "metadata": {
        "colab": {
          "base_uri": "https://localhost:8080/"
        },
        "id": "OQqL5iFCrzMA",
        "outputId": "8395e1a3-5de8-48c9-b461-01aad049e03c"
      },
      "source": [
        "n=12\n",
        "out=combiner('Marbello Rich Ivory Stainless Steel Insulated Kitchen Set',n)\n",
        "for i in range(0,n):\n",
        "  print(f\"{i+1}){out[i]}\")"
      ],
      "execution_count": 38,
      "outputs": [
        {
          "output_type": "stream",
          "name": "stdout",
          "text": [
            "<class 'numpy.int64'>\n",
            "1)Marbello Rich Ivory Stainless Steel Insulated Kitchen Set\n",
            "2)Set of 5 Stainless Steel Cookware Set\n",
            "3)Stainless Steel Insulated 3 Casseroles + 1 Flask + 5 Ltr.Dispenser + 1 Ladle & Free 6 Glass+Tray+Jar\n",
            "4)Stainless Steel Insulated 3 Casseroles + 3 Serving Spoons & Free 6 Bowls + 6 Glasses + 6 Tea Spoons\n",
            "5)Pick Any 1 - 5 Pc Broad Size Non-Stick Cookware Set\n",
            "6)Kool Kammander Summer Set of 14 Kitchen Combo\n",
            "7)3 Insulated Casseroles + 1ltr.Flask + 4ltr.Dispenser + 6 Bowls +Ladle+Free 6 Glass, 6 Coasters,Tray\n",
            "8)Modware Set of 3 Stainless Steel Insulated Casseroles\n",
            "9)Shagun 9 Pcs Aluminium Cookware Set\n",
            "10)9 Pcs Cook & Serve Handi & Patila Combo Lids\n",
            "11)Set of 5 - 4 in 1 Storage Set\n",
            "12)6 Pcs Non-Stick Cookware Set\n"
          ]
        }
      ]
    },
    {
      "cell_type": "markdown",
      "metadata": {
        "id": "Ep0ifHGQbNDL"
      },
      "source": [
        "# Experiment"
      ]
    },
    {
      "cell_type": "code",
      "metadata": {
        "colab": {
          "base_uri": "https://localhost:8080/"
        },
        "id": "EIcA_atnPY6n",
        "outputId": "ee7c9fcf-3c6d-4f76-8a72-b53036c6c610"
      },
      "source": [
        "import nltk\n",
        "nltk.download('stopwords')"
      ],
      "execution_count": 31,
      "outputs": [
        {
          "output_type": "stream",
          "name": "stdout",
          "text": [
            "[nltk_data] Downloading package stopwords to /root/nltk_data...\n",
            "[nltk_data]   Unzipping corpora/stopwords.zip.\n"
          ]
        },
        {
          "output_type": "execute_result",
          "data": {
            "text/plain": [
              "True"
            ]
          },
          "metadata": {},
          "execution_count": 31
        }
      ]
    },
    {
      "cell_type": "code",
      "metadata": {
        "id": "dYChS8j0c3ev"
      },
      "source": [
        "from scipy.stats import pearsonr\n",
        "from nltk.corpus import stopwords\n",
        "from sklearn.feature_extraction.text import TfidfVectorizer"
      ],
      "execution_count": 32,
      "outputs": []
    },
    {
      "cell_type": "code",
      "metadata": {
        "id": "bYdTOKQQdBdQ"
      },
      "source": [
        "stopwords_list = stopwords.words('english')\n",
        "vectorizer = TfidfVectorizer(analyzer='word')\n",
        "tfidf_matrix = vectorizer.fit_transform(df['title'])"
      ],
      "execution_count": 33,
      "outputs": []
    },
    {
      "cell_type": "code",
      "metadata": {
        "id": "PxuH3l7_c6YL"
      },
      "source": [
        "tfidf_des_array = tfidf_matrix.toarray()"
      ],
      "execution_count": 34,
      "outputs": []
    },
    {
      "cell_type": "code",
      "metadata": {
        "id": "jqGlnOPcc6Sv"
      },
      "source": [
        "def recommend_pearson(nam,n):\n",
        "    ind = index_df[index_df['title'] == nam].index.to_list()[0]\n",
        "    correlation = []\n",
        "    for i in range(len(tfidf_des_array)):\n",
        "        correlation.append(pearsonr(tfidf_des_array[ind], tfidf_des_array[i])[0])\n",
        "    correlation = list(enumerate(correlation))\n",
        "    sorted_corr = sorted(correlation, reverse=True, key=lambda x: x[1])[1:n+1]\n",
        "    ind = [i[0] for i in sorted_corr]\n",
        "    return index_df['title'].iloc[ind]"
      ],
      "execution_count": 35,
      "outputs": []
    },
    {
      "cell_type": "code",
      "metadata": {
        "colab": {
          "base_uri": "https://localhost:8080/"
        },
        "id": "pVvYuqiwqVsi",
        "outputId": "5faf1d11-dc27-494c-f461-5cc261fb646f"
      },
      "source": [
        "prod_name=\"Ziraffe Brown Genuine Leather Brogues\"\n",
        "pear=recommend_pearson(prod_name,9)\n",
        "pear=pear.to_list()\n",
        "if str(pear[0])==str(prod_name):\n",
        "      print(*pear[1:], sep=\"\\n\")\n",
        "else:\n",
        "      print(*pear, sep=\"\\n\")"
      ],
      "execution_count": 36,
      "outputs": [
        {
          "output_type": "stream",
          "name": "stdout",
          "text": [
            "Ziraffe Black Genuine Leather Brogues\n",
            "Lawman Brown Brogues\n",
            "Ziraffe Brown Oxford Shoes\n",
            "Fabbro Men Genuine Leather Wallet - Brown - 10\n",
            "Fabbro Men Genuine Leather Wallet - Brown-014\n",
            "Fabbro Men Genuine Leather Wallet Brown - 047\n",
            "Fabbro Casual Men Genuine Leather Wallet - Brown-011\n",
            "Fabbro Men Genuine Leather Casual Belt - Brown-037\n",
            "Fabbro Men Genuine Leather Casual Belt - Brown-031\n"
          ]
        }
      ]
    }
  ]
}