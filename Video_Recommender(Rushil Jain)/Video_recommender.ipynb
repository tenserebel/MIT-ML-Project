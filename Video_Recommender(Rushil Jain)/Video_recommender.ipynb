{
  "nbformat": 4,
  "nbformat_minor": 0,
  "metadata": {
    "colab": {
      "name": "Video_recommender.ipynb",
      "provenance": [],
      "collapsed_sections": [],
      "mount_file_id": "1opn2nzDTYpApNdPWb7YYvcR9TMfQiKtw",
      "authorship_tag": "ABX9TyP7fcGTfPh2xBxK807gbQTf",
      "include_colab_link": true
    },
    "kernelspec": {
      "name": "python3",
      "display_name": "Python 3"
    },
    "language_info": {
      "name": "python"
    },
    "accelerator": "GPU"
  },
  "cells": [
    {
      "cell_type": "markdown",
      "metadata": {
        "id": "view-in-github",
        "colab_type": "text"
      },
      "source": [
        "<a href=\"https://colab.research.google.com/github/Rj2790/Video_Recommender/blob/main/Video_recommender.ipynb\" target=\"_parent\"><img src=\"https://colab.research.google.com/assets/colab-badge.svg\" alt=\"Open In Colab\"/></a>"
      ]
    },
    {
      "cell_type": "markdown",
      "metadata": {
        "id": "3DudzXXIneXL"
      },
      "source": [
        "**About the Dataset and approach used**\n",
        "\n",
        "We have used Microsoft News Recommendation Dataset (MIND) which consists of Headline and the text of the news article, this code will summarize the text of the dataset and then find similarity with other articles and give top 10 recommednations based on the cosine-similarity-score.\n",
        "As the kernel was getting dead processing 98,401 articles, we reduced the dataset to 20,000 articles."
      ]
    },
    {
      "cell_type": "code",
      "metadata": {
        "id": "Lnu2F3qsRHht"
      },
      "source": [
        "import pandas as pd"
      ],
      "execution_count": null,
      "outputs": []
    },
    {
      "cell_type": "code",
      "metadata": {
        "colab": {
          "base_uri": "https://localhost:8080/",
          "height": 424
        },
        "id": "UKXNlroyb_RQ",
        "outputId": "e2d99608-dcb5-4522-c61f-f5164153570f"
      },
      "source": [
        "df = pd.read_csv('/content/drive/MyDrive/Video_recommendation/news_summary_more.csv')\n",
        "df"
      ],
      "execution_count": null,
      "outputs": [
        {
          "output_type": "execute_result",
          "data": {
            "text/html": [
              "<div>\n",
              "<style scoped>\n",
              "    .dataframe tbody tr th:only-of-type {\n",
              "        vertical-align: middle;\n",
              "    }\n",
              "\n",
              "    .dataframe tbody tr th {\n",
              "        vertical-align: top;\n",
              "    }\n",
              "\n",
              "    .dataframe thead th {\n",
              "        text-align: right;\n",
              "    }\n",
              "</style>\n",
              "<table border=\"1\" class=\"dataframe\">\n",
              "  <thead>\n",
              "    <tr style=\"text-align: right;\">\n",
              "      <th></th>\n",
              "      <th>headlines</th>\n",
              "      <th>text</th>\n",
              "    </tr>\n",
              "  </thead>\n",
              "  <tbody>\n",
              "    <tr>\n",
              "      <th>0</th>\n",
              "      <td>upGrad learner switches to career in ML &amp; Al w...</td>\n",
              "      <td>Saurav Kant, an alumnus of upGrad and IIIT-B's...</td>\n",
              "    </tr>\n",
              "    <tr>\n",
              "      <th>1</th>\n",
              "      <td>Delhi techie wins free food from Swiggy for on...</td>\n",
              "      <td>Kunal Shah's credit card bill payment platform...</td>\n",
              "    </tr>\n",
              "    <tr>\n",
              "      <th>2</th>\n",
              "      <td>New Zealand end Rohit Sharma-led India's 12-ma...</td>\n",
              "      <td>New Zealand defeated India by 8 wickets in the...</td>\n",
              "    </tr>\n",
              "    <tr>\n",
              "      <th>3</th>\n",
              "      <td>Aegon life iTerm insurance plan helps customer...</td>\n",
              "      <td>With Aegon Life iTerm Insurance plan, customer...</td>\n",
              "    </tr>\n",
              "    <tr>\n",
              "      <th>4</th>\n",
              "      <td>Have known Hirani for yrs, what if MeToo claim...</td>\n",
              "      <td>Speaking about the sexual harassment allegatio...</td>\n",
              "    </tr>\n",
              "    <tr>\n",
              "      <th>...</th>\n",
              "      <td>...</td>\n",
              "      <td>...</td>\n",
              "    </tr>\n",
              "    <tr>\n",
              "      <th>98396</th>\n",
              "      <td>CRPF jawan axed to death by Maoists in Chhatti...</td>\n",
              "      <td>A CRPF jawan was on Tuesday axed to death with...</td>\n",
              "    </tr>\n",
              "    <tr>\n",
              "      <th>98397</th>\n",
              "      <td>First song from Sonakshi Sinha's 'Noor' titled...</td>\n",
              "      <td>'Uff Yeh', the first song from the Sonakshi Si...</td>\n",
              "    </tr>\n",
              "    <tr>\n",
              "      <th>98398</th>\n",
              "      <td>'The Matrix' film to get a reboot: Reports</td>\n",
              "      <td>According to reports, a new version of the 199...</td>\n",
              "    </tr>\n",
              "    <tr>\n",
              "      <th>98399</th>\n",
              "      <td>Snoop Dogg aims gun at clown dressed as Trump ...</td>\n",
              "      <td>A new music video shows rapper Snoop Dogg aimi...</td>\n",
              "    </tr>\n",
              "    <tr>\n",
              "      <th>98400</th>\n",
              "      <td>Madhesi Morcha withdraws support to Nepalese g...</td>\n",
              "      <td>Madhesi Morcha, an alliance of seven political...</td>\n",
              "    </tr>\n",
              "  </tbody>\n",
              "</table>\n",
              "<p>98401 rows × 2 columns</p>\n",
              "</div>"
            ],
            "text/plain": [
              "                                               headlines                                               text\n",
              "0      upGrad learner switches to career in ML & Al w...  Saurav Kant, an alumnus of upGrad and IIIT-B's...\n",
              "1      Delhi techie wins free food from Swiggy for on...  Kunal Shah's credit card bill payment platform...\n",
              "2      New Zealand end Rohit Sharma-led India's 12-ma...  New Zealand defeated India by 8 wickets in the...\n",
              "3      Aegon life iTerm insurance plan helps customer...  With Aegon Life iTerm Insurance plan, customer...\n",
              "4      Have known Hirani for yrs, what if MeToo claim...  Speaking about the sexual harassment allegatio...\n",
              "...                                                  ...                                                ...\n",
              "98396  CRPF jawan axed to death by Maoists in Chhatti...  A CRPF jawan was on Tuesday axed to death with...\n",
              "98397  First song from Sonakshi Sinha's 'Noor' titled...  'Uff Yeh', the first song from the Sonakshi Si...\n",
              "98398         'The Matrix' film to get a reboot: Reports  According to reports, a new version of the 199...\n",
              "98399  Snoop Dogg aims gun at clown dressed as Trump ...  A new music video shows rapper Snoop Dogg aimi...\n",
              "98400  Madhesi Morcha withdraws support to Nepalese g...  Madhesi Morcha, an alliance of seven political...\n",
              "\n",
              "[98401 rows x 2 columns]"
            ]
          },
          "metadata": {},
          "execution_count": 2
        }
      ]
    },
    {
      "cell_type": "code",
      "metadata": {
        "colab": {
          "base_uri": "https://localhost:8080/",
          "height": 424
        },
        "id": "zSDp2lyJkHaG",
        "outputId": "16318e12-8d68-45b3-9355-e6d0ab3fb854"
      },
      "source": [
        "df = df.iloc[:20000]\n",
        "df"
      ],
      "execution_count": null,
      "outputs": [
        {
          "output_type": "execute_result",
          "data": {
            "text/html": [
              "<div>\n",
              "<style scoped>\n",
              "    .dataframe tbody tr th:only-of-type {\n",
              "        vertical-align: middle;\n",
              "    }\n",
              "\n",
              "    .dataframe tbody tr th {\n",
              "        vertical-align: top;\n",
              "    }\n",
              "\n",
              "    .dataframe thead th {\n",
              "        text-align: right;\n",
              "    }\n",
              "</style>\n",
              "<table border=\"1\" class=\"dataframe\">\n",
              "  <thead>\n",
              "    <tr style=\"text-align: right;\">\n",
              "      <th></th>\n",
              "      <th>headlines</th>\n",
              "      <th>text</th>\n",
              "    </tr>\n",
              "  </thead>\n",
              "  <tbody>\n",
              "    <tr>\n",
              "      <th>0</th>\n",
              "      <td>upGrad learner switches to career in ML &amp; Al w...</td>\n",
              "      <td>Saurav Kant, an alumnus of upGrad and IIIT-B's...</td>\n",
              "    </tr>\n",
              "    <tr>\n",
              "      <th>1</th>\n",
              "      <td>Delhi techie wins free food from Swiggy for on...</td>\n",
              "      <td>Kunal Shah's credit card bill payment platform...</td>\n",
              "    </tr>\n",
              "    <tr>\n",
              "      <th>2</th>\n",
              "      <td>New Zealand end Rohit Sharma-led India's 12-ma...</td>\n",
              "      <td>New Zealand defeated India by 8 wickets in the...</td>\n",
              "    </tr>\n",
              "    <tr>\n",
              "      <th>3</th>\n",
              "      <td>Aegon life iTerm insurance plan helps customer...</td>\n",
              "      <td>With Aegon Life iTerm Insurance plan, customer...</td>\n",
              "    </tr>\n",
              "    <tr>\n",
              "      <th>4</th>\n",
              "      <td>Have known Hirani for yrs, what if MeToo claim...</td>\n",
              "      <td>Speaking about the sexual harassment allegatio...</td>\n",
              "    </tr>\n",
              "    <tr>\n",
              "      <th>...</th>\n",
              "      <td>...</td>\n",
              "      <td>...</td>\n",
              "    </tr>\n",
              "    <tr>\n",
              "      <th>19995</th>\n",
              "      <td>Murders of Gauri Lankesh, Narendra Dabholkar l...</td>\n",
              "      <td>Central Bureau of Investigation on Sunday told...</td>\n",
              "    </tr>\n",
              "    <tr>\n",
              "      <th>19996</th>\n",
              "      <td>Nobody respects me, may be they will post my d...</td>\n",
              "      <td>Samajwadi Party patriarch Mulayam Singh Yadav ...</td>\n",
              "    </tr>\n",
              "    <tr>\n",
              "      <th>19997</th>\n",
              "      <td>Sanskrit teacher arrested for sexually assault...</td>\n",
              "      <td>The Delhi Police on Friday arrested a governme...</td>\n",
              "    </tr>\n",
              "    <tr>\n",
              "      <th>19998</th>\n",
              "      <td>Islamic State's Afghanistan chief killed in ai...</td>\n",
              "      <td>Abu Saad Erhabi, the head of Islamic State in ...</td>\n",
              "    </tr>\n",
              "    <tr>\n",
              "      <th>19999</th>\n",
              "      <td>Foreign specialists may stage chemical attack ...</td>\n",
              "      <td>The Russian Defence Ministry has warned that \"...</td>\n",
              "    </tr>\n",
              "  </tbody>\n",
              "</table>\n",
              "<p>20000 rows × 2 columns</p>\n",
              "</div>"
            ],
            "text/plain": [
              "                                               headlines                                               text\n",
              "0      upGrad learner switches to career in ML & Al w...  Saurav Kant, an alumnus of upGrad and IIIT-B's...\n",
              "1      Delhi techie wins free food from Swiggy for on...  Kunal Shah's credit card bill payment platform...\n",
              "2      New Zealand end Rohit Sharma-led India's 12-ma...  New Zealand defeated India by 8 wickets in the...\n",
              "3      Aegon life iTerm insurance plan helps customer...  With Aegon Life iTerm Insurance plan, customer...\n",
              "4      Have known Hirani for yrs, what if MeToo claim...  Speaking about the sexual harassment allegatio...\n",
              "...                                                  ...                                                ...\n",
              "19995  Murders of Gauri Lankesh, Narendra Dabholkar l...  Central Bureau of Investigation on Sunday told...\n",
              "19996  Nobody respects me, may be they will post my d...  Samajwadi Party patriarch Mulayam Singh Yadav ...\n",
              "19997  Sanskrit teacher arrested for sexually assault...  The Delhi Police on Friday arrested a governme...\n",
              "19998  Islamic State's Afghanistan chief killed in ai...  Abu Saad Erhabi, the head of Islamic State in ...\n",
              "19999  Foreign specialists may stage chemical attack ...  The Russian Defence Ministry has warned that \"...\n",
              "\n",
              "[20000 rows x 2 columns]"
            ]
          },
          "metadata": {},
          "execution_count": 4
        }
      ]
    },
    {
      "cell_type": "code",
      "metadata": {
        "id": "e7L6-rPfeNvr",
        "colab": {
          "base_uri": "https://localhost:8080/"
        },
        "outputId": "71b5f80b-f201-45f9-a3a3-e87ee4d141e9"
      },
      "source": [
        "from sklearn.feature_extraction.text import TfidfVectorizer\n",
        "\n",
        "tfv = TfidfVectorizer(min_df=3, max_features=None,\n",
        "                      strip_accents='unicode', analyzer='word',token_pattern=r'\\w{1,}',\n",
        "                      ngram_range=(1,3), stop_words='english')\n",
        "df['text'] = df['text'].fillna('')"
      ],
      "execution_count": null,
      "outputs": [
        {
          "output_type": "stream",
          "name": "stderr",
          "text": [
            "/usr/local/lib/python3.7/dist-packages/ipykernel_launcher.py:6: SettingWithCopyWarning: \n",
            "A value is trying to be set on a copy of a slice from a DataFrame.\n",
            "Try using .loc[row_indexer,col_indexer] = value instead\n",
            "\n",
            "See the caveats in the documentation: https://pandas.pydata.org/pandas-docs/stable/user_guide/indexing.html#returning-a-view-versus-a-copy\n",
            "  \n"
          ]
        }
      ]
    },
    {
      "cell_type": "code",
      "metadata": {
        "id": "Q3bDQ4YiepWC"
      },
      "source": [
        "tfv_matrix = tfv.fit_transform(df['text'])"
      ],
      "execution_count": null,
      "outputs": []
    },
    {
      "cell_type": "code",
      "metadata": {
        "id": "kxuZ4HQ0ez36"
      },
      "source": [
        "from sklearn.metrics.pairwise import sigmoid_kernel\n",
        "\n",
        "sig = sigmoid_kernel(tfv_matrix,tfv_matrix)\n",
        "\n",
        "indices = pd.Series(df.index, index=df['headlines']).drop_duplicates()"
      ],
      "execution_count": null,
      "outputs": []
    },
    {
      "cell_type": "code",
      "metadata": {
        "id": "6LNTtgI7e09K"
      },
      "source": [
        "def give_rec(title,sig=sig):\n",
        "# Index next to title\n",
        "  idx = indices[title]\n",
        "\n",
        "# Pairwise similarity scores, enumerate will provide index no.\n",
        "  sig_scores = list(enumerate(sig[idx]))\n",
        "\n",
        "# Sort by titles\n",
        "  sig_scores = sorted(sig_scores, key=lambda x:x[1], reverse=True)\n",
        "\n",
        "# Score top 10 similar titles\n",
        "  sig_scores = sig_scores[1:11]\n",
        "  print(sig_scores)\n",
        "# Indices\n",
        "  news_indices = [i[0] for i in sig_scores]\n",
        "\n",
        "# Top 10 similar titles\n",
        "  return df['headlines'].iloc[news_indices]"
      ],
      "execution_count": null,
      "outputs": []
    },
    {
      "cell_type": "code",
      "metadata": {
        "colab": {
          "base_uri": "https://localhost:8080/",
          "height": 652
        },
        "id": "86Y9hXFolvcD",
        "outputId": "4a61f97e-9c8b-4540-da1e-b163779eacd8"
      },
      "source": [
        "pd.set_option(\"display.max_colwidth\", -1)\n",
        "df"
      ],
      "execution_count": null,
      "outputs": [
        {
          "output_type": "stream",
          "name": "stderr",
          "text": [
            "/usr/local/lib/python3.7/dist-packages/ipykernel_launcher.py:1: FutureWarning: Passing a negative integer is deprecated in version 1.0 and will not be supported in future version. Instead, use None to not limit the column width.\n",
            "  \"\"\"Entry point for launching an IPython kernel.\n"
          ]
        },
        {
          "output_type": "execute_result",
          "data": {
            "text/html": [
              "<div>\n",
              "<style scoped>\n",
              "    .dataframe tbody tr th:only-of-type {\n",
              "        vertical-align: middle;\n",
              "    }\n",
              "\n",
              "    .dataframe tbody tr th {\n",
              "        vertical-align: top;\n",
              "    }\n",
              "\n",
              "    .dataframe thead th {\n",
              "        text-align: right;\n",
              "    }\n",
              "</style>\n",
              "<table border=\"1\" class=\"dataframe\">\n",
              "  <thead>\n",
              "    <tr style=\"text-align: right;\">\n",
              "      <th></th>\n",
              "      <th>headlines</th>\n",
              "      <th>text</th>\n",
              "    </tr>\n",
              "  </thead>\n",
              "  <tbody>\n",
              "    <tr>\n",
              "      <th>0</th>\n",
              "      <td>upGrad learner switches to career in ML &amp; Al with 90% salary hike</td>\n",
              "      <td>Saurav Kant, an alumnus of upGrad and IIIT-B's PG Program in Machine learning and Artificial Intelligence, was a Sr Systems Engineer at Infosys with almost 5 years of work experience. The program and upGrad's 360-degree career support helped him transition to a Data Scientist at Tech Mahindra with 90% salary hike. upGrad's Online Power Learning has powered 3 lakh+ careers.</td>\n",
              "    </tr>\n",
              "    <tr>\n",
              "      <th>1</th>\n",
              "      <td>Delhi techie wins free food from Swiggy for one year on CRED</td>\n",
              "      <td>Kunal Shah's credit card bill payment platform, CRED, gave users a chance to win free food from Swiggy for one year. Pranav Kaushik, a Delhi techie, bagged this reward after spending 2000 CRED coins. Users get one CRED coin per rupee of bill paid, which can be used to avail rewards from brands like Ixigo, BookMyShow, UberEats, Cult.Fit and more.</td>\n",
              "    </tr>\n",
              "    <tr>\n",
              "      <th>2</th>\n",
              "      <td>New Zealand end Rohit Sharma-led India's 12-match winning streak</td>\n",
              "      <td>New Zealand defeated India by 8 wickets in the fourth ODI at Hamilton on Thursday to win their first match of the five-match ODI series. India lost an international match under Rohit Sharma's captaincy after 12 consecutive victories dating back to March 2018. The match witnessed India getting all out for 92, their seventh lowest total in ODI cricket history.</td>\n",
              "    </tr>\n",
              "    <tr>\n",
              "      <th>3</th>\n",
              "      <td>Aegon life iTerm insurance plan helps customers save tax</td>\n",
              "      <td>With Aegon Life iTerm Insurance plan, customers can enjoy tax benefits on your premiums paid and save up to â¹46,800^ on taxes. The plan provides life cover up to the age of 100 years. Also, customers have options to insure against Critical Illnesses, Disability and Accidental Death Benefit Rider with a life cover up to the age of 80 years.</td>\n",
              "    </tr>\n",
              "    <tr>\n",
              "      <th>4</th>\n",
              "      <td>Have known Hirani for yrs, what if MeToo claims are not true: Sonam</td>\n",
              "      <td>Speaking about the sexual harassment allegations against Rajkumar Hirani, Sonam Kapoor said, \"I've known Hirani for many years...What if it's not true, the [#MeToo] movement will get derailed.\" \"In the #MeToo movement, I always believe a woman. But in this case, we need to reserve our judgment,\" she added. Hirani has been accused by an assistant who worked in 'Sanju'.</td>\n",
              "    </tr>\n",
              "    <tr>\n",
              "      <th>...</th>\n",
              "      <td>...</td>\n",
              "      <td>...</td>\n",
              "    </tr>\n",
              "    <tr>\n",
              "      <th>19995</th>\n",
              "      <td>Murders of Gauri Lankesh, Narendra Dabholkar linked: CBI</td>\n",
              "      <td>Central Bureau of Investigation on Sunday told a Pune court that it has established links between the murders of Pune-based rationalist Narendra Dabholkar and Bengaluru-based journalist Gauri Lankesh. It also asked for extension of police custody of one of the prime suspects, Sachin Andure. The agency has recovered the pistol used to kill Lankesh from Andure's brother-in-law.nn</td>\n",
              "    </tr>\n",
              "    <tr>\n",
              "      <th>19996</th>\n",
              "      <td>Nobody respects me, may be they will post my death: Mulayam</td>\n",
              "      <td>Samajwadi Party patriarch Mulayam Singh Yadav on Saturday said, \"Nobody respects me now. May be they will respect me after my death.\" He added that even freedom fighter Ram Manohar Lohia had said that India has a tradition of honouring people only after they die. The former UP CM made these remarks while speaking at an event in Lucknow. n</td>\n",
              "    </tr>\n",
              "    <tr>\n",
              "      <th>19997</th>\n",
              "      <td>Sanskrit teacher arrested for sexually assaulting student</td>\n",
              "      <td>The Delhi Police on Friday arrested a government school's Sanskrit teacher for allegedly sexually assaulting class 10 student during summer vacations in June this year. The crime took place when the student had visited the teacher's house for extra classes. The teacher was arrested after a man running an NGO showed a video of the assault to police.</td>\n",
              "    </tr>\n",
              "    <tr>\n",
              "      <th>19998</th>\n",
              "      <td>Islamic State's Afghanistan chief killed in air strike</td>\n",
              "      <td>Abu Saad Erhabi, the head of Islamic State in Afghanistan, was killed in an air strike in the Nangarhar province on Saturday, the Afghan government said. The strike was part of an operation carried out by the Afghan and foreign forces that targeted two ISIS hideouts. As per US military estimates, there are nearly 2,000 ISIS fighters in Afghanistan.</td>\n",
              "    </tr>\n",
              "    <tr>\n",
              "      <th>19999</th>\n",
              "      <td>Foreign specialists may stage chemical attack in Syria: Russia</td>\n",
              "      <td>The Russian Defence Ministry has warned that \"foreign specialists\" may stage a chemical attack in Syria in a bid to destabilise the ongoing peace process. The ministry added that chlorine will be used in the staged attack in the town of Kafr Zita in Syria's Hama province in the next two days.</td>\n",
              "    </tr>\n",
              "  </tbody>\n",
              "</table>\n",
              "<p>20000 rows × 2 columns</p>\n",
              "</div>"
            ],
            "text/plain": [
              "                                                                 headlines                                                                                                                                                                                                                                                                                                                                                                                          text\n",
              "0      upGrad learner switches to career in ML & Al with 90% salary hike    Saurav Kant, an alumnus of upGrad and IIIT-B's PG Program in Machine learning and Artificial Intelligence, was a Sr Systems Engineer at Infosys with almost 5 years of work experience. The program and upGrad's 360-degree career support helped him transition to a Data Scientist at Tech Mahindra with 90% salary hike. upGrad's Online Power Learning has powered 3 lakh+ careers.     \n",
              "1      Delhi techie wins free food from Swiggy for one year on CRED         Kunal Shah's credit card bill payment platform, CRED, gave users a chance to win free food from Swiggy for one year. Pranav Kaushik, a Delhi techie, bagged this reward after spending 2000 CRED coins. Users get one CRED coin per rupee of bill paid, which can be used to avail rewards from brands like Ixigo, BookMyShow, UberEats, Cult.Fit and more.                                 \n",
              "2      New Zealand end Rohit Sharma-led India's 12-match winning streak     New Zealand defeated India by 8 wickets in the fourth ODI at Hamilton on Thursday to win their first match of the five-match ODI series. India lost an international match under Rohit Sharma's captaincy after 12 consecutive victories dating back to March 2018. The match witnessed India getting all out for 92, their seventh lowest total in ODI cricket history.                    \n",
              "3      Aegon life iTerm insurance plan helps customers save tax             With Aegon Life iTerm Insurance plan, customers can enjoy tax benefits on your premiums paid and save up to â¹46,800^ on taxes. The plan provides life cover up to the age of 100 years. Also, customers have options to insure against Critical Illnesses, Disability and Accidental Death Benefit Rider with a life cover up to the age of 80 years.                                     \n",
              "4      Have known Hirani for yrs, what if MeToo claims are not true: Sonam  Speaking about the sexual harassment allegations against Rajkumar Hirani, Sonam Kapoor said, \"I've known Hirani for many years...What if it's not true, the [#MeToo] movement will get derailed.\" \"In the #MeToo movement, I always believe a woman. But in this case, we need to reserve our judgment,\" she added. Hirani has been accused by an assistant who worked in 'Sanju'.          \n",
              "...                                                                    ...                                                                                                                                                                                                                                                                                                                                                                                 ...          \n",
              "19995  Murders of Gauri Lankesh, Narendra Dabholkar linked: CBI             Central Bureau of Investigation on Sunday told a Pune court that it has established links between the murders of Pune-based rationalist Narendra Dabholkar and Bengaluru-based journalist Gauri Lankesh. It also asked for extension of police custody of one of the prime suspects, Sachin Andure. The agency has recovered the pistol used to kill Lankesh from Andure's brother-in-law.nn\n",
              "19996  Nobody respects me, may be they will post my death: Mulayam          Samajwadi Party patriarch Mulayam Singh Yadav on Saturday said, \"Nobody respects me now. May be they will respect me after my death.\" He added that even freedom fighter Ram Manohar Lohia had said that India has a tradition of honouring people only after they die. The former UP CM made these remarks while speaking at an event in Lucknow. n                                        \n",
              "19997  Sanskrit teacher arrested for sexually assaulting student            The Delhi Police on Friday arrested a government school's Sanskrit teacher for allegedly sexually assaulting class 10 student during summer vacations in June this year. The crime took place when the student had visited the teacher's house for extra classes. The teacher was arrested after a man running an NGO showed a video of the assault to police.                              \n",
              "19998  Islamic State's Afghanistan chief killed in air strike               Abu Saad Erhabi, the head of Islamic State in Afghanistan, was killed in an air strike in the Nangarhar province on Saturday, the Afghan government said. The strike was part of an operation carried out by the Afghan and foreign forces that targeted two ISIS hideouts. As per US military estimates, there are nearly 2,000 ISIS fighters in Afghanistan.                              \n",
              "19999  Foreign specialists may stage chemical attack in Syria: Russia       The Russian Defence Ministry has warned that \"foreign specialists\" may stage a chemical attack in Syria in a bid to destabilise the ongoing peace process. The ministry added that chlorine will be used in the staged attack in the town of Kafr Zita in Syria's Hama province in the next two days.                                                                                       \n",
              "\n",
              "[20000 rows x 2 columns]"
            ]
          },
          "metadata": {},
          "execution_count": 9
        }
      ]
    },
    {
      "cell_type": "code",
      "metadata": {
        "colab": {
          "base_uri": "https://localhost:8080/"
        },
        "id": "rz_ihnuemAkq",
        "outputId": "d6eed3dc-ff1e-4151-871e-decf4e54e63b"
      },
      "source": [
        "n = \"New Zealand end Rohit Sharma-led India's 12-match winning streak\"\n",
        "give_rec(n)"
      ],
      "execution_count": null,
      "outputs": [
        {
          "output_type": "stream",
          "name": "stdout",
          "text": [
            "[(2623, 0.7615965446839325), (6, 0.7615964684428375), (11966, 0.7615960682572328), (27, 0.7615960518251937), (28, 0.761595984607876), (11403, 0.7615959088053832), (361, 0.7615958583648436), (1038, 0.7615958132417784), (2955, 0.7615957156721089), (10706, 0.7615956946136979)]\n"
          ]
        },
        {
          "output_type": "execute_result",
          "data": {
            "text/plain": [
              "2623     Australia to don 1986-inspired green and gold kit in ODIs vs India\n",
              "6        India get all out for 92, their lowest ODI total in New Zealand   \n",
              "11966    Windies end India's 10-match unbeaten streak despite Kohli's ton  \n",
              "27       Rohit Sharma becomes 14th Indian cricketer to play 200 ODIs       \n",
              "28       19-year-old Shubman Gill becomes India's 227th ODI cricketer      \n",
              "11403    India win eighth consecutive ODI series against Windies           \n",
              "361      Nepal beat UAE, win their first-ever ODI series                   \n",
              "1038     India win an ODI against New Zealand in New Zealand after 10 years\n",
              "2955     NZ's Ross Taylor goes past Sachin, Kohli's tally                  \n",
              "10706    An ODI was once played in the middle of a Test match              \n",
              "Name: headlines, dtype: object"
            ]
          },
          "metadata": {},
          "execution_count": 11
        }
      ]
    },
    {
      "cell_type": "code",
      "metadata": {
        "id": "0-6HhNGRmN9v"
      },
      "source": [
        ""
      ],
      "execution_count": null,
      "outputs": []
    }
  ]
}